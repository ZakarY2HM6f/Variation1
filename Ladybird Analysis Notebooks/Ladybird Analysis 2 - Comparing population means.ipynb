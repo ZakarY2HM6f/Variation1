{
 "cells": [
  {
   "cell_type": "markdown",
   "id": "3b9048ae",
   "metadata": {},
   "source": [
    "# Ladybird Analysis 2\n",
    "\n",
    "# Compare the mean sizes of melanic and non-melanic ladybird populations"
   ]
  },
  {
   "cell_type": "markdown",
   "id": "918ac59f",
   "metadata": {},
   "source": [
    "<div class=\"alert alert-success\">\n",
    "\n",
    "# Part 1: Exploring your data\n",
    "</div>"
   ]
  },
  {
   "cell_type": "markdown",
   "id": "fef009d3",
   "metadata": {},
   "source": [
    "## Task 1.1: If you don't have your group's ladybird excel spreadsheet on Noteable, upload it now"
   ]
  },
  {
   "cell_type": "markdown",
   "id": "66a8d711",
   "metadata": {},
   "source": [
    "Follow these instructions to do this:\n",
    "\n",
    "1. Click Upload on the righthand side. \n",
    "2. Find your spreadsheet on your laptop and Open it for upload. \n",
    "3. In Noteable, click the blue Upload button to finish the upload. \n",
    "\n",
    "<div class=\"alert alert-danger\">\n",
    "\n",
    "Make sure that your excel spreadsheet is in the **Ladybird Analysis Notebooks** folder on Noteable, i.e., the same folder that this jupyter notebook is in.\n",
    "    \n",
    "</div>"
   ]
  },
  {
   "cell_type": "markdown",
   "id": "501f97f8",
   "metadata": {},
   "source": [
    "## Task 1.2: Read in and print the data to check it is okay"
   ]
  },
  {
   "cell_type": "markdown",
   "id": "51862156",
   "metadata": {},
   "source": [
    "1. Read in your excel spreadsheet using the command \n",
    "```python\n",
    "pd.read_excel('spreadsheet.xlsx')\n",
    "```\n",
    "**Make sure to replace \"spreadsheet.xlsx\" with whatever your spreadsheet is called otherwise you'll get a FileNotFound error.**\n",
    "\n",
    "2. Call the DataFrame something sensible, such as `ladybirds`.\n",
    "\n",
    "3. Print the data to make sure it is okay."
   ]
  },
  {
   "cell_type": "code",
   "execution_count": null,
   "id": "489b37a7",
   "metadata": {},
   "outputs": [],
   "source": [
    "# read and print your ladybird size dataset"
   ]
  },
  {
   "cell_type": "markdown",
   "id": "477f4bc2",
   "metadata": {},
   "source": [
    "## Task 1.3: Plot the samples in a histogram to see how they are distributed"
   ]
  },
  {
   "cell_type": "markdown",
   "id": "571831b6",
   "metadata": {},
   "source": [
    "Plot the distributions of the melanic and non-melanic ladybird sizes as histograms in a single annotated graph. \n",
    "\n",
    "See [4.1 - Comparing two population means](../Self-study%20Notebooks/4.1%20-%20Comparing%20two%20population%20means.ipynb#First-plot-the-data) for help.\n",
    "\n",
    "<div class=\"alert alert-success\">\n",
    "\n",
    "Note: The command \n",
    "    \n",
    "```python\n",
    "g = sns.displot( dataframe )\n",
    "```\n",
    "will plot a histogram for each column in dataframe. \n",
    "    \n",
    "Whereas the command \n",
    "    \n",
    "```python\n",
    "g = sns.displot( dataframe['column_name'] )\n",
    "```\n",
    "    \n",
    "will plot only a single histogram of the data in the column called `column_name`.\n",
    "     \n",
    "</div>"
   ]
  },
  {
   "cell_type": "code",
   "execution_count": null,
   "id": "3f010acd",
   "metadata": {},
   "outputs": [],
   "source": [
    "# annotated histograms of melanic and non-melanic ladybird sizes"
   ]
  },
  {
   "cell_type": "markdown",
   "id": "5b60bbc3",
   "metadata": {},
   "source": [
    "## Task 1.4: The distributions might be clearer in a boxplot"
   ]
  },
  {
   "cell_type": "markdown",
   "id": "12e6ca28",
   "metadata": {},
   "source": [
    "Your melanic and non-melanic histograms will probably overlap quite a lot. This makes it hard to see if the means of the two samples are different.\n",
    "\n",
    "If that is the case, a boxplot is probably a better way to visualise your data as it hides individual data points and instead uses a 5-number-summary to summarise the distribution of your samples. \n",
    "\n",
    "Plot the distributions of ladybird sizes in an annotated boxplot.\n",
    "\n",
    "See [4.1 - Comparing two population means](../Self-study%20Notebooks/4.1%20-%20Comparing%20two%20population%20means.ipynb#First-plot-the-data) for help."
   ]
  },
  {
   "cell_type": "code",
   "execution_count": null,
   "id": "9109bf07",
   "metadata": {},
   "outputs": [],
   "source": [
    "# a boxplot to visually compare ladybird sizes"
   ]
  },
  {
   "cell_type": "markdown",
   "id": "fda92639",
   "metadata": {},
   "source": [
    "## Task 1.5: What does the box and the various lines in a boxplot represent?"
   ]
  },
  {
   "cell_type": "markdown",
   "id": "d29f59ba",
   "metadata": {},
   "source": [
    "If you don't know try googling the answer. Write your answer in the following markdown cell."
   ]
  },
  {
   "cell_type": "markdown",
   "id": "485e61f0",
   "metadata": {},
   "source": [
    "> Write your answer here. "
   ]
  },
  {
   "cell_type": "markdown",
   "id": "8a1719d6",
   "metadata": {},
   "source": [
    "## Task 1.6: Eye-ball estimates of the means and standard deviations"
   ]
  },
  {
   "cell_type": "markdown",
   "id": "1fa3ca70",
   "metadata": {},
   "source": [
    "It is generally a good idea to estimate means and standard deviations by eye before calculating them on a computer. This is so you can check your eye-ball estimates with the actual values output by Python. If they don't match then you know something is wrong: either your estimates or your code.\n",
    "\n",
    "Using your histograms or boxplots, estimate the means and standard deviations of melanic and non-melanic ladybird sizes. Remember that a rough estimate of the standard deviation is given by this formula\n",
    "\n",
    "$$s \\approx \\frac{\\mathrm{max\\ value} - \\mathrm{min\\ value}}{4}$$\n"
   ]
  },
  {
   "cell_type": "markdown",
   "id": "d2c458a4",
   "metadata": {},
   "source": [
    "> Write your estimates here"
   ]
  },
  {
   "cell_type": "markdown",
   "id": "60b148f0",
   "metadata": {},
   "source": [
    "## Task 1.7: Calculate the sample sizes, sample means and sample standard deviations\n"
   ]
  },
  {
   "cell_type": "markdown",
   "id": "5b798c8e",
   "metadata": {},
   "source": [
    "Now, using Python code, calculate the sample sizes, means and standard deviations of the two samples and print to the appropriate number of decimal places.\n",
    "\n",
    "See Notebook [4.1 - Comparing two population means](../Self-study%20Notebooks/4.1%20-%20Comparing%20two%20population%20means.ipynb#Sample-means-and-standard-deviations) for example code.\n",
    "\n",
    "How do they compare to your eye-ball estimates?"
   ]
  },
  {
   "cell_type": "code",
   "execution_count": null,
   "id": "712f4d74",
   "metadata": {},
   "outputs": [],
   "source": [
    "# sample sizes, sample means and sample standard deviations of both samples"
   ]
  },
  {
   "cell_type": "markdown",
   "id": "1d7c92ac",
   "metadata": {},
   "source": [
    "## Task 1.8: Calculate the difference in the sample means"
   ]
  },
  {
   "cell_type": "markdown",
   "id": "3c06a21d",
   "metadata": {},
   "source": [
    "Using the sample means you just calculated, calculate, using Python code, the difference in sample means. \n",
    "\n",
    "See Notebook [4.1 - Comparing two population means](../Self-study%20Notebooks/4.1%20-%20Comparing%20two%20population%20means.ipynb#Sample-means-and-standard-deviations) for the code to do this."
   ]
  },
  {
   "cell_type": "code",
   "execution_count": null,
   "id": "8eee5013",
   "metadata": {},
   "outputs": [],
   "source": [
    "# calculate your observed difference in sample means"
   ]
  },
  {
   "cell_type": "markdown",
   "id": "1c4dc3a1",
   "metadata": {},
   "source": [
    "<div class=\"alert alert-success\">\n",
    "\n",
    "# Part 2: Two-sample *t*-test\n",
    "</div>"
   ]
  },
  {
   "cell_type": "markdown",
   "id": "ec4c5e53",
   "metadata": {},
   "source": [
    "Having looked at your data and calculated the difference in the sample means, you next need to work out how likely that difference is assuming the null hypothesis were true.\n",
    "\n",
    "If that difference is **likely** under the null hypothesis then you have insufficient evidence to reject the null hypothesis.\n",
    "\n",
    "On the other hand, if that difference is **unlikely** under the null hypothesis then you have sufficient evidence to reject the null hypothesis. \n",
    "\n",
    "How likely the observed difference in sample means is under the null hypothesis is called a *p*-value. \n",
    "\n",
    "This is what you are going to calculate now."
   ]
  },
  {
   "cell_type": "markdown",
   "id": "1e7b4105",
   "metadata": {},
   "source": [
    "## Task 2.1: Perform a two-sample *t*-test"
   ]
  },
  {
   "cell_type": "markdown",
   "id": "5dcb71c1",
   "metadata": {},
   "source": [
    "Perform a two-sample *t*-test on your data using Python code. To do this, copy, paste and adapt the code from [4.1 - Comparing two population means](../Self-study%20Notebooks/4.1%20-%20Comparing%20two%20population%20means.ipynb#The-two-sample-t-test)."
   ]
  },
  {
   "cell_type": "code",
   "execution_count": null,
   "id": "efbc82b8",
   "metadata": {},
   "outputs": [],
   "source": [
    "# perform a two-sample t-test on your data"
   ]
  },
  {
   "cell_type": "markdown",
   "id": "ba689e87",
   "metadata": {},
   "source": [
    "## Task 2.2: Reject or not reject your null hypothesis"
   ]
  },
  {
   "cell_type": "markdown",
   "id": "334eff8f",
   "metadata": {},
   "source": [
    "Based on your *p*-value, do you reject, or fail to reject, your null hypothesis that mean ladybird sizes are the same in melanic and non-melanic two-spot ladybirds? Write your answer below.\n",
    "\n",
    "Also see [4.1 - Comparing two population means](../Self-study%20Notebooks/4.1%20-%20Comparing%20two%20population%20means.ipynb#To-reject-or-not-reject-the-null-hypothesis) for more discussion about rejecting or not rejecting a null hypothesis."
   ]
  },
  {
   "cell_type": "markdown",
   "id": "6aa54cf7",
   "metadata": {},
   "source": [
    "> Do you reject or not reject the null hypothesis? Explain why."
   ]
  },
  {
   "cell_type": "markdown",
   "id": "158aaa33",
   "metadata": {},
   "source": [
    "## Task 2.3: Report the result of your test"
   ]
  },
  {
   "cell_type": "markdown",
   "id": "8b0a4906",
   "metadata": {},
   "source": [
    "There are three possible outcomes of your analysis.\n",
    "\n",
    "1. You fail to reject the null hypothesis. Which means you have no evidence that mean sizes differ between melanic and non-melanic two-spot ladybirds.\n",
    "\n",
    "2. You reject the null hypothesis, but melanic ladybirds are smaller than non-melanic ladybirds on average. Although you have found a significant difference it is the opposite to what we expected of our biological hypothesis.\n",
    "\n",
    "3. You reject the null hypothesis, and melanic ladybirds are larger than non-melanic ladybirds on average. You have found a significant difference and it is consistent with the biological hypothesis.\n",
    "\n",
    "Report the outcome of your test in words, as you might write in a report.\n",
    "\n",
    "See [4.1 - Comparing two population means](../Self-study%20Notebooks/4.1%20-%20Comparing%20two%20population%20means.ipynb#Reporting-the-result-of-the-test) for an example. "
   ]
  },
  {
   "cell_type": "markdown",
   "id": "e512d1bd",
   "metadata": {},
   "source": [
    "> Report the outcome of your test."
   ]
  }
 ],
 "metadata": {
  "kernelspec": {
   "display_name": "Python [conda env:base] *",
   "language": "python",
   "name": "conda-base-py"
  },
  "language_info": {
   "codemirror_mode": {
    "name": "ipython",
    "version": 3
   },
   "file_extension": ".py",
   "mimetype": "text/x-python",
   "name": "python",
   "nbconvert_exporter": "python",
   "pygments_lexer": "ipython3",
   "version": "3.11.5"
  },
  "varInspector": {
   "cols": {
    "lenName": 16,
    "lenType": 16,
    "lenVar": 40
   },
   "kernels_config": {
    "python": {
     "delete_cmd_postfix": "",
     "delete_cmd_prefix": "del ",
     "library": "var_list.py",
     "varRefreshCmd": "print(var_dic_list())"
    },
    "r": {
     "delete_cmd_postfix": ") ",
     "delete_cmd_prefix": "rm(",
     "library": "var_list.r",
     "varRefreshCmd": "cat(var_dic_list()) "
    }
   },
   "types_to_exclude": [
    "module",
    "function",
    "builtin_function_or_method",
    "instance",
    "_Feature"
   ],
   "window_display": false
  }
 },
 "nbformat": 4,
 "nbformat_minor": 5
}
