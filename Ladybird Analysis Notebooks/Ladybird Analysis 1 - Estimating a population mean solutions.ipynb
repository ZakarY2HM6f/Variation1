{
 "cells": [
  {
   "cell_type": "markdown",
   "id": "3b9048ae",
   "metadata": {},
   "source": [
    "# Ladybird Analysis 1\n",
    "\n",
    "# Estimating the population mean sizes of your two-spot ladybirds"
   ]
  },
  {
   "cell_type": "markdown",
   "id": "1ee99584",
   "metadata": {},
   "source": [
    "<div class=\"alert alert-success\">\n",
    "\n",
    "For this solution I am using made-up data so the output will differ from yours.\n",
    "    \n",
    "</div>"
   ]
  },
  {
   "cell_type": "markdown",
   "id": "501f97f8",
   "metadata": {},
   "source": [
    "## Task 1: Read in and print your spreadsheet"
   ]
  },
  {
   "cell_type": "code",
   "execution_count": 1,
   "id": "489b37a7",
   "metadata": {},
   "outputs": [
    {
     "data": {
      "text/html": [
       "<div>\n",
       "<style scoped>\n",
       "    .dataframe tbody tr th:only-of-type {\n",
       "        vertical-align: middle;\n",
       "    }\n",
       "\n",
       "    .dataframe tbody tr th {\n",
       "        vertical-align: top;\n",
       "    }\n",
       "\n",
       "    .dataframe thead th {\n",
       "        text-align: right;\n",
       "    }\n",
       "</style>\n",
       "<table border=\"1\" class=\"dataframe\">\n",
       "  <thead>\n",
       "    <tr style=\"text-align: right;\">\n",
       "      <th></th>\n",
       "      <th>melanic</th>\n",
       "      <th>non-melanic</th>\n",
       "    </tr>\n",
       "  </thead>\n",
       "  <tbody>\n",
       "    <tr>\n",
       "      <th>0</th>\n",
       "      <td>3.5</td>\n",
       "      <td>4.5</td>\n",
       "    </tr>\n",
       "    <tr>\n",
       "      <th>1</th>\n",
       "      <td>4.0</td>\n",
       "      <td>6.0</td>\n",
       "    </tr>\n",
       "    <tr>\n",
       "      <th>2</th>\n",
       "      <td>4.0</td>\n",
       "      <td>6.0</td>\n",
       "    </tr>\n",
       "    <tr>\n",
       "      <th>3</th>\n",
       "      <td>5.0</td>\n",
       "      <td>6.5</td>\n",
       "    </tr>\n",
       "    <tr>\n",
       "      <th>4</th>\n",
       "      <td>4.0</td>\n",
       "      <td>6.0</td>\n",
       "    </tr>\n",
       "    <tr>\n",
       "      <th>5</th>\n",
       "      <td>4.0</td>\n",
       "      <td>4.0</td>\n",
       "    </tr>\n",
       "    <tr>\n",
       "      <th>6</th>\n",
       "      <td>3.0</td>\n",
       "      <td>6.0</td>\n",
       "    </tr>\n",
       "    <tr>\n",
       "      <th>7</th>\n",
       "      <td>3.5</td>\n",
       "      <td>5.0</td>\n",
       "    </tr>\n",
       "    <tr>\n",
       "      <th>8</th>\n",
       "      <td>4.0</td>\n",
       "      <td>5.0</td>\n",
       "    </tr>\n",
       "    <tr>\n",
       "      <th>9</th>\n",
       "      <td>4.0</td>\n",
       "      <td>NaN</td>\n",
       "    </tr>\n",
       "  </tbody>\n",
       "</table>\n",
       "</div>"
      ],
      "text/plain": [
       "   melanic  non-melanic\n",
       "0      3.5          4.5\n",
       "1      4.0          6.0\n",
       "2      4.0          6.0\n",
       "3      5.0          6.5\n",
       "4      4.0          6.0\n",
       "5      4.0          4.0\n",
       "6      3.0          6.0\n",
       "7      3.5          5.0\n",
       "8      4.0          5.0\n",
       "9      4.0          NaN"
      ]
     },
     "execution_count": 1,
     "metadata": {},
     "output_type": "execute_result"
    }
   ],
   "source": [
    "# read and print your ladybird size dataset\n",
    "\n",
    "import pandas as pd\n",
    "\n",
    "ladybirds = pd.read_excel('ladybird_sizes_demo.xlsx')\n",
    "\n",
    "ladybirds"
   ]
  },
  {
   "cell_type": "markdown",
   "id": "477f4bc2",
   "metadata": {},
   "source": [
    "## Task 2: Plot the distribution of melanic ladybird sizes"
   ]
  },
  {
   "cell_type": "code",
   "execution_count": 2,
   "id": "3f010acd",
   "metadata": {},
   "outputs": [
    {
     "data": {
      "image/png": "[encoded data removed]",
      "text/plain": [
       "<Figure size 500x500 with 1 Axes>"
      ]
     },
     "metadata": {},
     "output_type": "display_data"
    }
   ],
   "source": [
    "import seaborn as sns\n",
    "\n",
    "g = sns.displot(ladybirds['melanic'])\n",
    "\n",
    "# Add some useful annotation to help others understand what the graph contains\n",
    "g.ax.set_xlabel('Size (mm)')\n",
    "g.ax.set_ylabel('Number of ladybirds')\n",
    "g.ax.set_title('Sizes of melanic two-spot ladybirds');\n"
   ]
  },
  {
   "cell_type": "markdown",
   "id": "687c7b29",
   "metadata": {},
   "source": [
    "## Task 3: Check for outliers"
   ]
  },
  {
   "cell_type": "markdown",
   "id": "c920a1ec",
   "metadata": {},
   "source": [
    "No outliers found"
   ]
  },
  {
   "cell_type": "markdown",
   "id": "8a1719d6",
   "metadata": {},
   "source": [
    "## Task 4: Eye-ball estimates of the sample mean and sample standard deviation"
   ]
  },
  {
   "cell_type": "markdown",
   "id": "d2c458a4",
   "metadata": {},
   "source": [
    "- melanic mean is about 4mm\n",
    "- melanic $s$ is about (5-3)/4 = 0.5 mm"
   ]
  },
  {
   "cell_type": "markdown",
   "id": "60b148f0",
   "metadata": {},
   "source": [
    "## Task 5: Calculate the sample size, sample mean and sample standard deviation"
   ]
  },
  {
   "cell_type": "code",
   "execution_count": 3,
   "id": "712f4d74",
   "metadata": {},
   "outputs": [
    {
     "name": "stdout",
     "output_type": "stream",
     "text": [
      "sample size = 10 ladybirds\n",
      "mean = 3.90 mm\n",
      "st. dev. = 0.52 mm\n"
     ]
    }
   ],
   "source": [
    "n = ladybirds['melanic'].count()   # sample size\n",
    "xbar = ladybirds['melanic'].mean() # sample mean\n",
    "s = ladybirds['melanic'].std()     # sample standard deviation\n",
    "\n",
    "print(f'sample size = {n} ladybirds')\n",
    "print(f'mean = {xbar:.2f} mm')\n",
    "print(f'st. dev. = {s:.2f} mm')"
   ]
  },
  {
   "cell_type": "markdown",
   "id": "1d7c92ac",
   "metadata": {},
   "source": [
    "## Task 6: Check if the data obey the 68-95-99.7% rule"
   ]
  },
  {
   "cell_type": "code",
   "execution_count": 4,
   "id": "8eee5013",
   "metadata": {},
   "outputs": [
    {
     "name": "stdout",
     "output_type": "stream",
     "text": [
      "expected number of ladybirds within 1 st. dev. of the mean = 6.8\n",
      "within 1 st. dev. of the mean is between 3.38 mm and 4.42 mm\n",
      "8 ladybirds are within 1 st. dev. of the mean\n",
      "consistent with normally distributed data\n"
     ]
    }
   ],
   "source": [
    "# check if 68% of your data are within one standard deviation of the mean\n",
    "\n",
    "print(f'expected number of ladybirds within 1 st. dev. of the mean = {0.68*n:.1f}')\n",
    "\n",
    "# Set tally of ladybird sizes within one standard deviation of the mean to zero.\n",
    "count = 0\n",
    "\n",
    "# Loop through ladybird sizes one at a time.\n",
    "for size in ladybirds['melanic']:\n",
    "\n",
    "    # If this ladybird's size is within one standard deviation of the mean increment tally by 1.\n",
    "    if xbar - s < size < xbar + s:\n",
    "        count += 1\n",
    "\n",
    "print( f'within 1 st. dev. of the mean is between {xbar - s:.2f} mm and {xbar + s:.2f} mm' )\n",
    "print( f'{count} ladybirds are within 1 st. dev. of the mean' )\n",
    "print('consistent with normally distributed data')"
   ]
  },
  {
   "cell_type": "markdown",
   "id": "11b24e2b",
   "metadata": {},
   "source": [
    "## Task 7: Calculate the precision of your estimate of the population mean"
   ]
  },
  {
   "cell_type": "code",
   "execution_count": 5,
   "id": "0d8e7f20",
   "metadata": {},
   "outputs": [
    {
     "name": "stdout",
     "output_type": "stream",
     "text": [
      "SEM = 0.16 mm\n",
      "lower limit = 3.57 mm\n",
      "upper limit = 4.23 mm\n"
     ]
    }
   ],
   "source": [
    "import math\n",
    "\n",
    "SEM = s / math.sqrt(n)   # the standard error of the mean for the 1976 finches\n",
    "\n",
    "print(f'SEM = {SEM:.2f} mm')\n",
    "\n",
    "lower_limit = xbar - 2 * SEM   # Lower limit of 95% CI\n",
    "upper_limit = xbar + 2 * SEM   # Upper limit of 95% CI\n",
    "\n",
    "print(f'lower limit = {lower_limit:.2f} mm')\n",
    "print(f'upper limit = {upper_limit:.2f} mm')\n"
   ]
  },
  {
   "cell_type": "markdown",
   "id": "0d45df0a",
   "metadata": {},
   "source": [
    "## Task 8: Report your estimate of the population mean"
   ]
  },
  {
   "cell_type": "markdown",
   "id": "200694ae",
   "metadata": {},
   "source": [
    "Mean ladybird size is 3.90 mm (95% CI: 3.57 - 4.23 mm)\n",
    "\n",
    "Mean ladybird size is 3.90 mm (SEM: 0.16 mm)"
   ]
  }
 ],
 "metadata": {
  "kernelspec": {
   "display_name": "base",
   "language": "python",
   "name": "python3"
  },
  "language_info": {
   "codemirror_mode": {
    "name": "ipython",
    "version": 3
   },
   "file_extension": ".py",
   "mimetype": "text/x-python",
   "name": "python",
   "nbconvert_exporter": "python",
   "pygments_lexer": "ipython3",
   "version": "3.11.5"
  },
  "varInspector": {
   "cols": {
    "lenName": 16,
    "lenType": 16,
    "lenVar": 40
   },
   "kernels_config": {
    "python": {
     "delete_cmd_postfix": "",
     "delete_cmd_prefix": "del ",
     "library": "var_list.py",
     "varRefreshCmd": "print(var_dic_list())"
    },
    "r": {
     "delete_cmd_postfix": ") ",
     "delete_cmd_prefix": "rm(",
     "library": "var_list.r",
     "varRefreshCmd": "cat(var_dic_list()) "
    }
   },
   "types_to_exclude": [
    "module",
    "function",
    "builtin_function_or_method",
    "instance",
    "_Feature"
   ],
   "window_display": false
  }
 },
 "nbformat": 4,
 "nbformat_minor": 5
}
