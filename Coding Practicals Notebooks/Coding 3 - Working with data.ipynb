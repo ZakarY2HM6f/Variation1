{
 "cells": [
  {
   "cell_type": "markdown",
   "metadata": {},
   "source": [
    "# Coding 3: Working with data"
   ]
  },
  {
   "cell_type": "markdown",
   "metadata": {},
   "source": [
    "## Instructions for completing the practical "
   ]
  },
  {
   "cell_type": "markdown",
   "metadata": {},
   "source": [
    "<div class=\"alert alert-danger\">\n",
    "\n",
    "**You must complete Self-study Notebooks 2.1 to 2.4 and Exercise Notebooks 2.1 to 2.4 before attempting to answer the tasks below.**\n",
    "\n",
    "**If you haven't, do so now.**\n",
    "\n",
    "</div>\n",
    "\n",
    "The aims of this practical are\n",
    "1. to get you started analysing data using lists, loops and conditions\n",
    "2. to get you familiar with reading in datasets from files and plotting and saving histograms of the data.\n",
    "\n",
    "The tasks start easy, similar to the questions in the Exercise Notebooks, but get progressively harder by combining ideas from across the Self-study notebooks. Help each other to answer as many as you can. \n",
    "\n",
    "<div class=\"alert alert-success\">\n",
    "\n",
    "\n",
    "**You do not need to answer all tasks during this practical. The tasks are not assessed.**\n",
    "\n",
    "</div>\n",
    "\n",
    "If you do not finish the tasks by the end of the practical you can either complete them individually or continue working together. \n",
    "\n",
    "Many of the tasks include the output your code should produce in blue boxes. These outputs are there to help you write the correct code.\n",
    "\n",
    "Answers and code for all the tasks will be posted on Learn on Friday.\n",
    "\n",
    "\n",
    "<div class=\"alert alert-success\">\n",
    "\n",
    "**Use the Self-study and Exercise notebooks to help you answer the questions.**\n",
    "    \n",
    "**If you get stuck please ask one of the demonstrators for help.**\n",
    "</div>"
   ]
  },
  {
   "cell_type": "markdown",
   "metadata": {},
   "source": [
    "## Task 2.1\n",
    "<br>\n",
    "<div>\n",
    "<img src=\"attachment:rattlesnake.jpg\" width='30%' title=\"Jean Beaufort CC0 1.0\"/>\n",
    "</div>\n",
    "\n",
    "In the following code cell is a list of body temperatures (in degrees Celsius) of a rattlesnake taken every hour throughout a single day.\n",
    "\n",
    "The list is assigned to a variable called `temperatures` and then printed out.\n",
    "\n",
    "The code has two errors. Correct the code to make it work without error."
   ]
  },
  {
   "cell_type": "code",
   "execution_count": 1,
   "metadata": {},
   "outputs": [
    {
     "name": "stdout",
     "output_type": "stream",
     "text": [
      "[25.1, 25.6, 26.1, 26.6, 26.9, 27.1, 27.1, 27.0, 26.7, 26.4, 25.9, 25.4, 24.8, 24.3, 23.8, 23.5, 23.2, 23.1, 23.1, 23.3, 23.6, 24.1, 24.6, 25.1]\n"
     ]
    }
   ],
   "source": [
    "temperatures = [25.1, 25.6, 26.1, 26.6, 26.9, 27.1, 27.1, 27.0, 26.7, 26.4, 25.9, 25.4, 24.8, 24.3, 23.8, 23.5, 23.2, 23.1, 23.1, 23.3, 23.6, 24.1, 24.6, 25.1]\n",
    "\n",
    "print(temperatures)"
   ]
  },
  {
   "cell_type": "markdown",
   "metadata": {},
   "source": [
    "## Task 2.2\n",
    "\n",
    "The following code is supposed to loop through the list of rattlesnake temperatures printing each one. However, the code contains multiple errors. Fix them to make it work correctly."
   ]
  },
  {
   "cell_type": "code",
   "execution_count": 3,
   "metadata": {},
   "outputs": [
    {
     "name": "stdout",
     "output_type": "stream",
     "text": [
      "25.1\n",
      "25.6\n",
      "26.1\n",
      "26.6\n",
      "26.9\n",
      "27.1\n",
      "27.1\n",
      "27.0\n",
      "26.7\n",
      "26.4\n",
      "25.9\n",
      "25.4\n",
      "24.8\n",
      "24.3\n",
      "23.8\n",
      "23.5\n",
      "23.2\n",
      "23.1\n",
      "23.1\n",
      "23.3\n",
      "23.6\n",
      "24.1\n",
      "24.6\n",
      "25.1\n"
     ]
    }
   ],
   "source": [
    "temperatures = [25.1, 25.6, 26.1, 26.6, 26.9, 27.1, 27.1, 27.0, 26.7, 26.4, 25.9, 25.4, 24.8, 24.3, 23.8, 23.5, 23.2, 23.1, 23.1, 23.3, 23.6, 24.1, 24.6, 25.1]\n",
    "\n",
    "# Loop through the list of rattlesnake temperatures and print each one.\n",
    "for temp in temperatures:\n",
    "    print(temp)"
   ]
  },
  {
   "cell_type": "markdown",
   "metadata": {},
   "source": [
    "## Task 2.3\n",
    "\n",
    "The following code is supposed to find the minimum temperature in the list of rattlesnake temperatures then print out the minimum temperature once. However, the code contains multiple errors. Fix them to make it work correctly.\n",
    "\n",
    "<div class=\"alert alert-info\">\n",
    "Your output should be\n",
    "    \n",
    "    Minimum temperature is 23.1 deg C\n",
    "</div>"
   ]
  },
  {
   "cell_type": "code",
   "execution_count": 8,
   "metadata": {},
   "outputs": [
    {
     "name": "stdout",
     "output_type": "stream",
     "text": [
      "Minimum temperature is 23.1 deg C\n"
     ]
    }
   ],
   "source": [
    "temperatures = [25.1, 25.6, 26.1, 26.6, 26.9, 27.1, 27.1, 27.0, 26.7, 26.4, 25.9, 25.4, 24.8, 24.3, 23.8, 23.5, 23.2, 23.1, 23.1, 23.3, 23.6, 24.1, 24.6, 25.1]\n",
    "\n",
    "# Set the minimum temperature to a very large, physiologically impossible, value\n",
    "min_temp = 1000\n",
    "\n",
    "# Loop through the rattlesnake temperatures\n",
    "for t in temperatures:\n",
    "    \n",
    "    # If this temperature is lower than the current value of min_temp, set min_temp to this temperature\n",
    "    if t < min_temp:\n",
    "        min_temp = t\n",
    "    \n",
    "# Print the minimum temperature\n",
    "print(f\"Minimum temperature is {min_temp} deg C\")"
   ]
  },
  {
   "cell_type": "markdown",
   "metadata": {},
   "source": [
    "## Task 2.4\n",
    "\n",
    "The following code is supposed to find the **maximum** temperature in the list of rattlesnake temperatures then print out the **maximum** temperature once. \n",
    "\n",
    "The code runs but it contains a single error. Fix it so that it matches the output shown in this blue box.\n",
    "\n",
    "<div class=\"alert alert-info\">\n",
    "Your code should output\n",
    "    \n",
    "    Maximum temperature is 27.1 deg C\n",
    "</div>\n",
    "\n",
    "**Hint: To understand why the code gives the wrong output think about what the values of the variables `t` and `max_temp` are as you loop through the list one value at a time.** "
   ]
  },
  {
   "cell_type": "code",
   "execution_count": null,
   "metadata": {},
   "outputs": [],
   "source": [
    "temperatures = [25.1, 25.6, 26.1, 26.6, 26.9, 27.1, 27.1, 27.0, 26.7, 26.4, 25.9, 25.4, 24.8, 24.3, 23.8, 23.5, 23.2, 23.1, 23.1, 23.3, 23.6, 24.1, 24.6, 25.1]\n",
    "\n",
    "# Set the maximum temperature to a very large, physiologically impossible, value\n",
    "max_temp = 1000\n",
    "\n",
    "# Loop through the rattlesnake temperatures\n",
    "for t in temperatures:\n",
    "    \n",
    "    # If this temperature is higher than the current value of max_temp, set max_temp to this temperature\n",
    "    if t > max_temp:\n",
    "        max_temp = t\n",
    "    \n",
    "# Print the maximum temperature\n",
    "print(f'Maximum temperature is {max_temp} deg C')"
   ]
  },
  {
   "cell_type": "markdown",
   "metadata": {},
   "source": [
    "## Task 2.5\n",
    "\n",
    "The expected number of fish species in a desert pool depends on its surface area. \n",
    "<br>\n",
    "<br>\n",
    "<div>\n",
    "<img src=\"attachment:The_Mandara_Lakes.jpg\" width='50%' title=\"Rudolph Baumann CCA 2.0 Generic\"/>\n",
    "</div>\n",
    "\n",
    "The relationship between the expected number of species, *N*, and surface area in square metres, *A*, is given by the formula\n",
    "\n",
    "$$N = 0.6 A^{0.2}$$\n",
    "\n",
    "The list in the following code cell contains the surface areas (in square metres) of 10 desert pools. \n",
    "\n",
    "Loop through the list calculating the expected number of fish species in each pool to the nearest whole number.\n",
    "\n",
    "<div class=\"alert alert-info\">\n",
    "The first few lines of your output should look like this\n",
    "    \n",
    "    1\n",
    "    1\n",
    "    5\n",
    "    2\n",
    "    etc.\n",
    "</div>"
   ]
  },
  {
   "cell_type": "code",
   "execution_count": 9,
   "metadata": {},
   "outputs": [
    {
     "name": "stdout",
     "output_type": "stream",
     "text": [
      "1\n",
      "1\n",
      "5\n",
      "2\n",
      "1\n",
      "1\n",
      "3\n",
      "1\n",
      "4\n",
      "1\n"
     ]
    }
   ],
   "source": [
    "surface_areas = [37, 4, 24245, 520, 33, 44, 4073, 7, 10630, 1]\n",
    "\n",
    "# Add your code below here\n",
    "for A in surface_areas:\n",
    "    N = round(0.6 * A ** 0.2)\n",
    "    print(N)"
   ]
  },
  {
   "cell_type": "markdown",
   "metadata": {},
   "source": [
    "## Task 2.6\n",
    "\n",
    "Researchers counted the number of words 100 volunteers spoke in a single day. The data are contained in the list `words_per_day` in the following code cell. \n",
    "\n",
    "Use Python code to calculate the average number of words spoken per day.\n",
    "\n",
    "**Hint: Copy, paste and adapt the code in the [Loops Notebook](../Self-study%20Notebooks/2.2%20-%20Loops.ipynb#Average-value-of-items-in-a-list).**\n",
    "\n",
    "<div class=\"alert alert-info\">\n",
    "Your answer should be 16870.2 words per day\n",
    "</div>\n"
   ]
  },
  {
   "cell_type": "code",
   "execution_count": 10,
   "metadata": {},
   "outputs": [
    {
     "name": "stdout",
     "output_type": "stream",
     "text": [
      " 16870.2 words per day\n"
     ]
    }
   ],
   "source": [
    "words_per_day = [29567, 4941, 1010, 16241, 2998, 29787, 11760, 21731, 22676, 17446, 17269, 19548, 6830, 17704, 28205, 24923, 20680, 13317, 21994, 21066, 28584, 38088, 14070, 16787, 647, 19282, 21485, 29313, 7792, 8287, 40955, 12127, 34822, 21125, 6930, 5958, 26340, 23605, 23463, 17657, 6880, 5488, 27077, 10623, 15166, 17395, 2944, 11243, 9104, 19788, 20302, 27219, 13207, 8799, 13792, 2683, 19727, 23028, 15994, 36001, 22045, 17121, 20528, 22014, 20669, 13493, 17832, 25549, 11278, 25620, 12539, 9933, 9996, 9897, 18802, 30780, 21315, 4623, 13568, 22181, 3040, 4963, 16372, 10960, 13523, 5589, 24678, 21584, 7525, 23229, 17459, 2753, 16649, 6129, 15850, 13064, 11183, 20149, 27615, 21452]\n",
    "\n",
    "# Add your code below here\n",
    "print(f\"{sum(words_per_day) / len(words_per_day) : .1f} words per day\")"
   ]
  },
  {
   "cell_type": "markdown",
   "metadata": {},
   "source": [
    "<div class=\"alert alert-success\">\n",
    "\n",
    "<div>\n",
    "<img src=\"attachment:bike.png\" width='30%' align='right' title=\"PIXNIO CC\"/>\n",
    "</div>\n",
    "    \n",
    "Like learning to ride a bike, it takes many months and years of practice to become a proficient coder. You have been learning Python for three weeks! You should not expect to remember all the python commands, rules and syntax you have been taught in such a short amount of time - and we do not expect you to either.\n",
    "\n",
    "It is absolutely fine not to be able to code from memory. Which is why copying and adapting existing code is perfectly acceptable and why we suggested you do this in Task 2.6. In fact, even experienced coders often copy and adapt code to suit their own needs. It is much more efficient to code in this way. \n",
    "    \n",
    "However, having copied some code it is important to read through it so that you know what it is doing. In that way you will become a better coder and be able to write more and more code from memory.\n",
    "\n",
    "So please do not be disheartened when you cannot code from memory.\n",
    "    \n",
    "</div>"
   ]
  },
  {
   "cell_type": "markdown",
   "metadata": {},
   "source": [
    "## Task 2.7\n",
    "\n",
    "<div>\n",
    "<img src=\"attachment:yeast.jpg\" width='30%' title=\"PIXNIO CC\"/>\n",
    "</div>\n",
    "\n",
    "Researchers have created every possible \"knockout\" cell line in yeast. Each cell line has one gene deleted and all other genes present. How fast each line grows relative to wildtype yeast has been measured. The relative growth rates of 78 knockout lines are given in the list `relative_growth_rates` in the code cell below. A relative growth rate greater than 1 means the knockout line grows faster than wildtype, whereas a relative growth rate less than 1 means the knockout line grows slower than wildtype.\n",
    "\n",
    "Using Python code, calculate the frequency and relative frequency of knockout cell lines that grow faster than wildtype.\n",
    "\n",
    "*Hint: Copy, paste and adapt the code from the [Counting values Notebook](../Self-study%20Notebooks/2.4%20-%20Counting%20values.ipynb).*\n",
    "\n",
    "<div class=\"alert alert-info\">\n",
    "Your answer should be frequency = 13 cell lines, relative frequency = 0.17 or 17%.\n",
    "</div>"
   ]
  },
  {
   "cell_type": "code",
   "execution_count": 12,
   "metadata": {},
   "outputs": [
    {
     "name": "stdout",
     "output_type": "stream",
     "text": [
      "frequency: 13 (16.67%)\n"
     ]
    }
   ],
   "source": [
    "relative_growth_rates = [0.97, 0.76, 0.98, 0.93, 1.0, 0.84, 0.92, 0.91, 0.94, 0.95, 0.8, 1.04, 0.98, 0.96, 0.91, 0.99, 0.8, 0.96, 0.84, 0.83, 0.95, 0.65, 1.01, 0.93, 1.11, 0.81, 0.87, 0.72, 1.21, 0.93, 1.14, 1.06, 1.1, 0.85, 0.98, 0.75, 0.91, 0.89, 1.15, 0.95, 0.77, 0.86, 0.78, 0.96, 0.79, 0.92, 0.74, 0.83, 0.9, 0.92, 1.02, 0.83, 0.9, 1.02, 0.85, 0.9, 1.1, 0.9, 0.94, 0.84, 0.92, 0.87, 0.86, 0.71, 0.83, 0.82, 0.87, 0.88, 0.98, 0.86, 0.78, 0.94, 0.8, 1.01, 0.85, 0.76, 0.81, 1.03]\n",
    "\n",
    "# Add your code below here\n",
    "frequency = sum(rate > 1 for rate in relative_growth_rates)\n",
    "relative_frequency = frequency / len(relative_growth_rates)\n",
    "\n",
    "print(f\"frequency: {frequency} ({relative_frequency:.2%})\")"
   ]
  },
  {
   "cell_type": "markdown",
   "metadata": {},
   "source": [
    "# Reading data from a file"
   ]
  },
  {
   "cell_type": "markdown",
   "metadata": {},
   "source": [
    "Up until now we've stored data in a Python list such as `relative_growth_rates` in Task 2.7. This is not the normal way to store data though. Normally data are saved in files. We use code to read in the files which then allows us to manipulate, analyse and plot the data using Python code.\n",
    "\n",
    "There are different ways of saving data in files. A common file format that you may have used before is Microsoft Excel. You open Excel files using the Microsoft office program called Excel. Once opened you can see your data, manipulate it and plot it in graphs.\n",
    "\n",
    "But that is only one of many ways in which your data can be saved in a file. Another common format, and one we'll use now, is called \"comma-separated values\" or \"csv\" for short. You can tell if a file is a csv file because it will have the extension \".csv\" after it. Similarly an Excel file will have the extension \".xlsx\" after it.\n",
    "\n",
    "There are several ways to open a csv file in Python. In this course we will use a module called **pandas**."
   ]
  },
  {
   "cell_type": "markdown",
   "metadata": {},
   "source": [
    "## Pandas: A data analysis module for python"
   ]
  },
  {
   "cell_type": "markdown",
   "metadata": {},
   "source": [
    "Pandas is widely used in data science. It provides lots of functions for reading in, analysing, manipulating and describing data. The official pandas website is [here](http://pandas.pydata.org). This website provides a lot more information on the use of this module than can be covered in these practicals. \n",
    "\n",
    "To use pandas we must include the following code once in each Notebook.\n",
    "\n",
    "```python\n",
    "import pandas as pd\n",
    "```\n",
    "\n",
    "This imports the pandas module and gives it the shorthand name `pd`.\n",
    "\n",
    "The csv file `Datasets/yeast.csv` contains the relative growth rates of the yeast knockout cell lines that you looked at in Task 2.7. To read in this file we can use the following line of code:\n",
    "\n",
    "```python\n",
    "yeast = pd.read_csv('Datasets/yeast.csv')\n",
    "```\n",
    "\n",
    "This reads in the dataset and calls it `yeast` so that we can refer to it later. We didn't have to call it `yeast`, we could have called it `xyz` or any other valid python variable name, but it is best to give the dataset a sensible name so that we know what it refers to. The technical term for the dataset is a **DataFrame**.\n",
    "    \n",
    "To see what data is in the DataFrame we can print it with the following command\n",
    "    \n",
    "```python\n",
    "print(yeast)\n",
    "```"
   ]
  },
  {
   "cell_type": "markdown",
   "metadata": {},
   "source": [
    "## Task 2.8\n",
    "\n",
    "Import pandas, read in the yeast relative growth rate dataset and print it out.\n",
    "\n",
    "<div class=\"alert alert-info\">\n",
    "You should see this ouput:\n",
    "    \n",
    "        relative_growth_rate\n",
    "    0                   0.97\n",
    "    1                   0.76\n",
    "    2                   0.98\n",
    "    3                   0.93\n",
    "    4                   1.00\n",
    "    ..                   ...\n",
    "    73                  1.01\n",
    "    74                  0.85\n",
    "    75                  0.76\n",
    "    76                  0.81\n",
    "    77                  1.03\n",
    "    \n",
    "    [78 rows x 1 columns]\n",
    "</div>"
   ]
  },
  {
   "cell_type": "code",
   "execution_count": 13,
   "metadata": {},
   "outputs": [
    {
     "name": "stdout",
     "output_type": "stream",
     "text": [
      "    relative_growth_rate\n",
      "0                   0.97\n",
      "1                   0.76\n",
      "2                   0.98\n",
      "3                   0.93\n",
      "4                   1.00\n",
      "..                   ...\n",
      "73                  1.01\n",
      "74                  0.85\n",
      "75                  0.76\n",
      "76                  0.81\n",
      "77                  1.03\n",
      "\n",
      "[78 rows x 1 columns]\n"
     ]
    }
   ],
   "source": [
    "import pandas as pd\n",
    "\n",
    "yeast = pd.read_csv(\"Datasets/yeast.csv\")\n",
    "print(yeast)"
   ]
  },
  {
   "cell_type": "markdown",
   "metadata": {},
   "source": [
    "There are two columns. The first column is an index, or row number, for each knockout cell line and can be ignored. The second column contains the relative growth rates of the yeast knockout cell lines you analysed in Task 2.7 (you can compare the values to see that they are the same).\n",
    "\n",
    "As this is a very long dataset, pandas has only printed the first five and last five values; the middle values (from index 5 to index 72) have been omitted.\n",
    "\n",
    "The first line is called a **header**. This describes what has been measured. In this case it is `relative_growth_rate`. The last line tells us how many rows and columns (minus the index column) are in the DataFrame."
   ]
  },
  {
   "cell_type": "markdown",
   "metadata": {},
   "source": [
    "## Task 2.9\n",
    "\n",
    "As we'll see later, getting the number of values in a dataset is important. The number of values in a dataset is called the **sample size**. It is usually represented by lowercase *n*.\n",
    "\n",
    "We can use the pandas `count()` method to get the number of values in a dataset like so:\n",
    "\n",
    "```python\n",
    "n = yeast['relative_growth_rate'].count()\n",
    "```\n",
    "which says \"count the number of values of `relative_growth_rate` contained in the DataFrame `yeast` and store this count in a variable called `n`\".\n",
    "\n",
    "Get the sample size of yeast knockout cell lines and print it out.\n",
    "\n",
    "<div class=\"alert alert-info\">\n",
    "You answer should be:\n",
    "\n",
    "    78\n",
    "</div>"
   ]
  },
  {
   "cell_type": "code",
   "execution_count": 14,
   "metadata": {},
   "outputs": [
    {
     "name": "stdout",
     "output_type": "stream",
     "text": [
      "78\n"
     ]
    }
   ],
   "source": [
    "# Count the number of growth‑rate values (sample size)\n",
    "n = yeast['relative_growth_rate'].count()\n",
    "\n",
    "# Print the result\n",
    "print(n)"
   ]
  },
  {
   "cell_type": "markdown",
   "metadata": {},
   "source": [
    "That is all we'll do with pandas for the moment. Next week we'll see some of the other things pandas can do."
   ]
  },
  {
   "cell_type": "markdown",
   "metadata": {},
   "source": [
    "# Visualising data"
   ]
  },
  {
   "cell_type": "markdown",
   "metadata": {},
   "source": [
    "Reading in a dataset is only the first step toward analysing your data. The next step is to get a feel for your data by plotting it in graphs. \n",
    "\n",
    "Python itself does not have functions for plotting graphs. We have to use another module to do this. \n",
    "\n",
    "There are several modules we can use to visualise data in Python. A common one used in statistics and data science is called **seaborn**. Seaborn provides easy-to-use data visualisation tools of datasets. The official website is [here](http://seaborn.pydata.org).\n",
    "\n",
    "To use seaborn we must include the following code once in each Notebook.\n",
    "```python\n",
    "import seaborn as sns\n",
    "```\n",
    "which imports seaborn and creates the shortcut name `sns`.\n",
    "\n",
    "The histogram is one of the main types of graph for visualising a single set of numerical data. \n",
    "\n",
    "To plot a histogram of the relative growth rates of yeast knockout cell lines we use the seaborn function `displot()` like so\n",
    "\n",
    "```python\n",
    "g = sns.displot( yeast['relative_growth_rate'] )\n",
    "```\n",
    "\n",
    "which says \"plot a histogram of the `relative_growth_rate` values contained in the DataFrame `yeast` and store the graph in a variable called `g`\". We'll see why `g` is needed in a moment."
   ]
  },
  {
   "cell_type": "markdown",
   "metadata": {},
   "source": [
    "## Task 2.10\n",
    "\n",
    "Plot a histogram of the relative growth rates of the yeast knockout cell lines"
   ]
  },
  {
   "cell_type": "code",
   "execution_count": 16,
   "metadata": {},
   "outputs": [
    {
     "data": {
      "image/png": "[encoded data removed]",
      "text/plain": [
       "<Figure size 500x500 with 1 Axes>"
      ]
     },
     "metadata": {},
     "output_type": "display_data"
    }
   ],
   "source": [
    "import seaborn as sns\n",
    "\n",
    "g = sns.displot(yeast['relative_growth_rate'])"
   ]
  },
  {
   "cell_type": "markdown",
   "metadata": {},
   "source": [
    "If you get a `UserWarning`, just ignore it: it's a bug in seaborn's code.\n",
    "\n",
    "We can now see what the data look like. The majority of cell lines have a growth rate smaller than the wild type (i.e., relative growth rate less than 1). The average relative growth rate is about 0.95 and ranges from about 0.7 to 1.2."
   ]
  },
  {
   "cell_type": "markdown",
   "metadata": {},
   "source": [
    "## Annotate graphs to help readers understand their content"
   ]
  },
  {
   "cell_type": "markdown",
   "metadata": {},
   "source": [
    "As with all graphs, the one you plotted in Task 2.10 needs to be annotated fully and clearly so that someone else can look at it and know immediately what it is presenting. We need the following:\n",
    "1. More descriptive labels on the $x$ (horizontal) and $y$ (vertical) axes\n",
    "2. A title\n",
    "\n",
    "We add $x$ and $y$ axes labels like so\n",
    "```python\n",
    "g.ax.set_xlabel('Relative growth rate')\n",
    "g.ax.set_ylabel('Number of knockout cell lines')\n",
    "```\n",
    "and a title like so\n",
    "```python\n",
    "g.ax.set_title('Growth rates relative to wildtype of 78 yeast knockout cell lines');\n",
    "```\n",
    "\n",
    "Notice that we are using the graph's name `g` to set the labels and titles."
   ]
  },
  {
   "cell_type": "markdown",
   "metadata": {},
   "source": [
    "## Task 2.11\n",
    "\n",
    "Annotate your histogram with axes labels and a title to make it more understandable. "
   ]
  },
  {
   "cell_type": "code",
   "execution_count": 18,
   "metadata": {},
   "outputs": [
    {
     "data": {
      "text/plain": [
       "Text(0.5, 1.0, 'Growth rates relative to wildtype of 78 yeast knockout cell lines')"
      ]
     },
     "execution_count": 18,
     "metadata": {},
     "output_type": "execute_result"
    },
    {
     "data": {
      "image/png": "[encoded data removed]",
      "text/plain": [
       "<Figure size 500x500 with 1 Axes>"
      ]
     },
     "metadata": {},
     "output_type": "display_data"
    }
   ],
   "source": [
    "g = sns.displot(yeast['relative_growth_rate'])\n",
    "\n",
    "g.ax.set_xlabel(\"Relative growth rate\")\n",
    "g.ax.set_ylabel(\"Number of knockout cell lines\")\n",
    "\n",
    "g.ax.set_title(\"Growth rates relative to wildtype of 78 yeast knockout cell lines\")"
   ]
  },
  {
   "cell_type": "markdown",
   "metadata": {},
   "source": [
    "Notice the semi-colon at the end of\n",
    "```python\n",
    "g.ax.set_title('Growth rates relative to wildtype of 78 yeast knockout cell lines');\n",
    "```\n",
    "\n",
    "The semi-colon suppresses the text output of this statement. Try removing it in the above code cell to see the difference in the output. \n",
    "    \n",
    "You don't need to use the semi-colon, but it makes your output tidier."
   ]
  },
  {
   "cell_type": "markdown",
   "metadata": {},
   "source": [
    "## Frequency and relative frequency distributions"
   ]
  },
  {
   "cell_type": "markdown",
   "metadata": {},
   "source": [
    "The above histogram plots the frequency of values. Such plots are called **frequency distributions**. That is, they show the distribution of frequencies of values in a dataset.\n",
    "\n",
    "Instead we can plot the **relative frequency distribution** of values. Remember that relative frequency is the same as proportion.\n",
    "\n",
    "We can use `displot()` to plot relative frequency distributions. We just have to tell seaborn this is what we want to do by adding `stat='proportion'` to the call to `displot()` like so\n",
    "```python\n",
    "g = sns.displot(yeast['relative_growth_rate'], stat='proportion')\n",
    "```"
   ]
  },
  {
   "cell_type": "markdown",
   "metadata": {},
   "source": [
    "## Task 2.12\n",
    "\n",
    "Create an annotated relative frequency distribution of the relative growth rate of yeast knockout cell lines."
   ]
  },
  {
   "cell_type": "code",
   "execution_count": 19,
   "metadata": {},
   "outputs": [
    {
     "data": {
      "text/plain": [
       "Text(0.5, 1.0, 'Growth rates relative to wildtype of 78 yeast knockout cell lines')"
      ]
     },
     "execution_count": 19,
     "metadata": {},
     "output_type": "execute_result"
    },
    {
     "data": {
      "image/png": "[encoded data removed]",
      "text/plain": [
       "<Figure size 500x500 with 1 Axes>"
      ]
     },
     "metadata": {},
     "output_type": "display_data"
    }
   ],
   "source": [
    "g = sns.displot(yeast['relative_growth_rate'], stat=\"proportion\")\n",
    "\n",
    "g.ax.set_xlabel(\"Relative growth rate\")\n",
    "g.ax.set_ylabel(\"Percentage of knockout cell lines\")\n",
    "\n",
    "g.ax.set_title(\"Growth rates relative to wildtype of 78 yeast knockout cell lines\")"
   ]
  },
  {
   "cell_type": "markdown",
   "metadata": {},
   "source": [
    "## Task 2.13\n",
    "<figure>\n",
    "<img src=\"attachment:spanish_flu.jpg\">\n",
    "<figcaption>\n",
    "<center>\n",
    "<font size=\"2\">  \n",
    "    Face masks were a common sight in 1918 too (ALAMY).\n",
    "</font>  \n",
    "</center>\n",
    "</figcaption>\n",
    "</figure>\n",
    "\n",
    "The Spanish flu killed millions of people around the world between 1918 and 1920. The file `Datasets/spanish flu 1918.csv` contains the ages of everyone who died in Switzerland in 1918. This includes deaths due to spanish flu as well as the usual causes.\n",
    "\n",
    "1. Read in the csv file `Datasets/spanish flu 1918.csv` into a pandas DataFrame called `flu`. \n",
    "2. Print the dataset.\n",
    "3. Using `count()` get and print the number of deaths in Switzerland in 1918.\n",
    "4. Plot a histogram of `flu['age']`.\n",
    "5. Add some useful annotation."
   ]
  },
  {
   "cell_type": "code",
   "execution_count": 21,
   "metadata": {},
   "outputs": [
    {
     "name": "stdout",
     "output_type": "stream",
     "text": [
      "       age\n",
      "0        0\n",
      "1        0\n",
      "2        0\n",
      "3        0\n",
      "4        0\n",
      "...    ...\n",
      "75029   98\n",
      "75030   99\n",
      "75031   99\n",
      "75032   99\n",
      "75033  100\n",
      "\n",
      "[75034 rows x 1 columns]\n",
      "75034\n"
     ]
    }
   ],
   "source": [
    "flu = pd.read_csv(\"Datasets/spanish flu 1918.csv\")\n",
    "print(flu)\n",
    "\n",
    "n = flu['age'].count()\n",
    "print(n)"
   ]
  },
  {
   "cell_type": "code",
   "execution_count": 25,
   "metadata": {},
   "outputs": [
    {
     "data": {
      "text/plain": [
       "Text(0.5, 1.0, 'Age of Death in 1918')"
      ]
     },
     "execution_count": 25,
     "metadata": {},
     "output_type": "execute_result"
    },
    {
     "data": {
      "image/png": "[encoded data removed]",
      "text/plain": [
       "<Figure size 500x500 with 1 Axes>"
      ]
     },
     "metadata": {},
     "output_type": "display_data"
    }
   ],
   "source": [
    "g = sns.displot(flu['age'])\n",
    "g.ax.set_xlabel(\"Age\")\n",
    "g.ax.set_ylabel(\"Frequency\")\n",
    "g.ax.set_title(\"Age of Death in 1918\")"
   ]
  },
  {
   "cell_type": "markdown",
   "metadata": {},
   "source": [
    "<div class=\"alert alert-success\">\n",
    "\n",
    "The large peak at zero corresponds to normal infant mortality. The wide peak around 75 corresponds to normal mortality of the elderly. These two peaks would have been typical in Europe at the beginning of the 20<sup>th</sup> century. \n",
    "\n",
    "The wide peak around 25 is due to Spanish flu causing a disproportionate number of deaths in people in their twenties and thirties.\n",
    "\n",
    "Histograms with more than one peak are called **multi-modal**. Two-peaked histograms are called **bimodal**.\n",
    "</div>"
   ]
  },
  {
   "cell_type": "markdown",
   "metadata": {},
   "source": [
    "## Saving graphs to file"
   ]
  },
  {
   "cell_type": "markdown",
   "metadata": {},
   "source": [
    "If you want to use a graph in a report or a poster or a presentation then you need to save it to a file. This is easily done with the command \n",
    "```python\n",
    "g.savefig(filename)\n",
    "```\n",
    "You can save graphs to various formats including png, jpg, pdf, tiff, etc. Python knows which format you want to use by the filename extension you give it.\n",
    "\n",
    "For example, to save your histogram of 1918 deaths as a jpeg you could use the command\n",
    "\n",
    "```python\n",
    "g.savefig( 'flu.jpg' )\n",
    "```\n",
    "\n",
    "Do this now in the following code cell."
   ]
  },
  {
   "cell_type": "code",
   "execution_count": 26,
   "metadata": {},
   "outputs": [],
   "source": [
    "g.savefig(\"flu.jpg\")"
   ]
  },
  {
   "cell_type": "markdown",
   "metadata": {},
   "source": [
    "If you now go to the browser tab containing the \"Coding Practical Notebooks\", you will find a file called flu.jpg.\n",
    "\n",
    "If you click on the filename a new browser tab opens with the graph displayed.\n",
    "\n",
    "To download the file on to your laptop select flu.jpg by clicking on the square box to the left of it so that a tick appears."
   ]
  },
  {
   "attachments": {
    "Screenshot_20220623_102424.png": {
     "image/png": "[encoded data removed]"
    }
   },
   "cell_type": "markdown",
   "metadata": {},
   "source": [
    "Then click on \"Download\" at the top of the page.\n",
    "\n",
    "![Screenshot_20220623_102424.png](attachment:Screenshot_20220623_102424.png)\n",
    "\n",
    "You can then insert the downloaded graph into a Word document or a Powerpoint presentation."
   ]
  },
  {
   "cell_type": "markdown",
   "metadata": {},
   "source": [
    "## Other types of plots"
   ]
  },
  {
   "cell_type": "markdown",
   "metadata": {},
   "source": [
    "A histogram is an excellent visual tool for examining the shape, location and spread of data. But it's not the only method. Other common types of plot are the strip, swarm and box plots."
   ]
  },
  {
   "cell_type": "markdown",
   "metadata": {},
   "source": [
    "### Swarm and strip plots"
   ]
  },
  {
   "cell_type": "markdown",
   "metadata": {},
   "source": [
    "The seaborn function to create swarm and strip plots is `sns.catplot()`. We use the `kind` keyword to tell seaborn the type of plot we want:\n",
    "\n",
    "```python\n",
    "g = sns.catplot(data=yeast, kind='swarm')\n",
    "g = sns.catplot(data=yeast, kind='strip')\n",
    "```\n",
    "Note that the keyword `data` is required for these types of plots."
   ]
  },
  {
   "cell_type": "markdown",
   "metadata": {},
   "source": [
    "## Task 2.14\n",
    "\n",
    "Create swarm and strip plots of the yeast knockout data. "
   ]
  },
  {
   "cell_type": "code",
   "execution_count": 28,
   "metadata": {},
   "outputs": [
    {
     "data": {
      "image/png": "[encoded data removed]",
      "text/plain": [
       "<Figure size 500x500 with 1 Axes>"
      ]
     },
     "metadata": {},
     "output_type": "display_data"
    },
    {
     "data": {
      "image/png": "[encoded data removed]",
      "text/plain": [
       "<Figure size 500x500 with 1 Axes>"
      ]
     },
     "metadata": {},
     "output_type": "display_data"
    }
   ],
   "source": [
    "g = sns.catplot(data=yeast, kind='swarm')\n",
    "g = sns.catplot(data=yeast, kind='strip')"
   ]
  },
  {
   "cell_type": "markdown",
   "metadata": {},
   "source": [
    "Each point is a cell line's relative growth rate. The swarm plot clusters the points together, whereas a strip plot scatters the points horizontally within a vertical band.\n",
    "\n",
    "When there are too many data the points become too dense and it is hard to visualise their distribution. In that case a box plot may be more appropriate."
   ]
  },
  {
   "cell_type": "markdown",
   "metadata": {},
   "source": [
    "### Boxplot"
   ]
  },
  {
   "cell_type": "markdown",
   "metadata": {},
   "source": [
    "The boxplot summarises the distribution of data using lines and boxes. So it doesn't show individual data points.\n",
    "\n",
    "The seaborn function to make a boxplot is similar to the swarm and strip plots:\n",
    "\n",
    "```python\n",
    "g = sns.catplot(data=yeast, kind='box')\n",
    "```"
   ]
  },
  {
   "cell_type": "markdown",
   "metadata": {},
   "source": [
    "## Task 2.15\n",
    "\n",
    "Create a boxplot of the yeast knockout data."
   ]
  },
  {
   "cell_type": "code",
   "execution_count": 30,
   "metadata": {},
   "outputs": [
    {
     "data": {
      "image/png": "[encoded data removed]",
      "text/plain": [
       "<Figure size 500x500 with 1 Axes>"
      ]
     },
     "metadata": {},
     "output_type": "display_data"
    }
   ],
   "source": [
    "g = sns.catplot(data=yeast, kind=\"box\")"
   ]
  },
  {
   "cell_type": "markdown",
   "metadata": {},
   "source": [
    "The following video clearly explains how the boxplot is created and interpreted.\n",
    "\n",
    "[![this video](https://img.youtube.com/vi/tpToLyZibKM/2.jpg)](https://www.youtube.com/watch?v=tpToLyZibKM)"
   ]
  }
 ],
 "metadata": {
  "kernelspec": {
   "display_name": ".venv",
   "language": "python",
   "name": "python3"
  },
  "language_info": {
   "codemirror_mode": {
    "name": "ipython",
    "version": 3
   },
   "file_extension": ".py",
   "mimetype": "text/x-python",
   "name": "python",
   "nbconvert_exporter": "python",
   "pygments_lexer": "ipython3",
   "version": "3.13.5"
  },
  "varInspector": {
   "cols": {
    "lenName": 16,
    "lenType": 16,
    "lenVar": 40
   },
   "kernels_config": {
    "python": {
     "delete_cmd_postfix": "",
     "delete_cmd_prefix": "del ",
     "library": "var_list.py",
     "varRefreshCmd": "print(var_dic_list())"
    },
    "r": {
     "delete_cmd_postfix": ") ",
     "delete_cmd_prefix": "rm(",
     "library": "var_list.r",
     "varRefreshCmd": "cat(var_dic_list()) "
    }
   },
   "types_to_exclude": [
    "module",
    "function",
    "builtin_function_or_method",
    "instance",
    "_Feature"
   ],
   "window_display": false
  }
 },
 "nbformat": 4,
 "nbformat_minor": 4
}
