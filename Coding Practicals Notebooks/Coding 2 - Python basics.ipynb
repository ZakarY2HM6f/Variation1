{
 "cells": [
  {
   "cell_type": "markdown",
   "metadata": {},
   "source": [
    "\n",
    "# Coding 2 Practical: Python basics"
   ]
  },
  {
   "cell_type": "markdown",
   "metadata": {},
   "source": [
    "## Instructions for completing this practical "
   ]
  },
  {
   "cell_type": "markdown",
   "metadata": {},
   "source": [
    "<div class=\"alert alert-danger\">\n",
    "\n",
    "**You must complete Self-study Notebooks 1.1 to 1.5 and Exercise Notebooks 1.2 to 1.5 before attempting to answer the tasks below.**\n",
    "    \n",
    "**If you haven't, do so now.**\n",
    "\n",
    "</div>\n",
    "\n",
    "The aims of this practical are the following.\n",
    "1. To get you familiar with editing and running code in Jupyter notebooks. \n",
    "2. To perform simple arithmetic with Python variables.\n",
    "3. To format output with f-strings.\n",
    "\n",
    "The tasks start easy, similar to the questions in the Exercise Notebooks, but get progressively harder by combining ideas from across the Self-study notebooks. Help each other to answer as many as you can. \n",
    "\n",
    "<div class=\"alert alert-success\">\n",
    "\n",
    "**You do not need to answer all tasks during this practical. The tasks are not assessed.**\n",
    "\n",
    "</div>\n",
    "\n",
    "If you do not finish the tasks by the end of the practical you can either complete them individually or continue working together. \n",
    "\n",
    "Blue boxes in the tasks show the output your code should produce. These outputs are there to help you write the correct code.\n",
    "\n",
    "Answers to all the tasks will be available to download on Friday.\n",
    "\n",
    "<div class=\"alert alert-success\">\n",
    "\n",
    "**Use the Self-study and Exercise notebooks to help you answer the tasks.**\n",
    "    \n",
    "**If you get stuck please ask one of the demonstrators for help.**\n",
    "</div>"
   ]
  },
  {
   "cell_type": "markdown",
   "metadata": {},
   "source": [
    "## Task 1.1\n",
    "\n",
    "The following code is supposed to set a variable called `N0` to 1,000 and then print out its value. A comment is also included on the first line so that we know what the code does. However, the code contains multiple errors. Fix them to make it work correctly.\n",
    "\n",
    "<div class=\"alert alert-info\">\n",
    "    \n",
    "Your code should output\n",
    "    \n",
    "    1000\n",
    "</div>"
   ]
  },
  {
   "cell_type": "code",
   "execution_count": 1,
   "metadata": {},
   "outputs": [
    {
     "name": "stdout",
     "output_type": "stream",
     "text": [
      "1000\n"
     ]
    }
   ],
   "source": [
    "# set the initial number of bacteria at time 0 to 1,000 cells\n",
    "N_0 = 1000\n",
    "print(N_0)"
   ]
  },
  {
   "cell_type": "markdown",
   "metadata": {},
   "source": [
    "## Task 1.2\n",
    "\n",
    "1. Assign the value of 50 to a variable called `height_in_inches`.\n",
    "2. Using Python code, convert the value in the variable `height_in_inches` to centimetres and assign the result to a variable called `height_in_cm`. \n",
    "3. Print the value of `height_in_cm`.\n",
    "\n",
    "*Hint: If you can't remember how many centimetres in an inch, google it.*\n",
    "\n",
    "<div class=\"alert alert-info\">\n",
    "Your code should output \n",
    "    \n",
    "    127.0\n",
    "</div>"
   ]
  },
  {
   "cell_type": "code",
   "execution_count": 3,
   "metadata": {},
   "outputs": [
    {
     "name": "stdout",
     "output_type": "stream",
     "text": [
      "127.0\n"
     ]
    }
   ],
   "source": [
    "height_in_inches = 50\n",
    "height_in_cm = height_in_inches * 2.54\n",
    "print(height_in_cm)"
   ]
  },
  {
   "cell_type": "markdown",
   "metadata": {},
   "source": [
    "## Task 1.3\n",
    "\n",
    "Using Python code, convert 76 inches into centimetres and print the result using an f-string so the output reads:\n",
    "\n",
    "    76 inches is X cm\n",
    "\n",
    "where X is your answer rounded to 0 decimal places."
   ]
  },
  {
   "cell_type": "code",
   "execution_count": 4,
   "metadata": {},
   "outputs": [
    {
     "name": "stdout",
     "output_type": "stream",
     "text": [
      "76 inches is  193 cm\n"
     ]
    }
   ],
   "source": [
    "height_in_inches = 76\n",
    "height_in_cm = height_in_inches * 2.54\n",
    "print(f'{height_in_inches} inches is {height_in_cm : .0f} cm')"
   ]
  },
  {
   "cell_type": "markdown",
   "metadata": {},
   "source": [
    "## Task 1.4\n",
    "\n",
    "Add a print statement with an f-string to the code below to print the following statement:\n",
    "\n",
    "        The percentage of land covered by forest is 1.06%\n",
    "\n",
    "Perform the calculation within your f-string. Round your answer to 2dp."
   ]
  },
  {
   "cell_type": "code",
   "execution_count": 5,
   "metadata": {},
   "outputs": [
    {
     "name": "stdout",
     "output_type": "stream",
     "text": [
      "The percentage of land coverage by forest is  1.06%\n"
     ]
    }
   ],
   "source": [
    "total_land_area = 89032840.42390\n",
    "forest_area = 939402.42445\n",
    "\n",
    "# Add your print statement below here\n",
    "print(f'The percentage of land coverage by forest is {forest_area / total_land_area : .02%}')"
   ]
  },
  {
   "cell_type": "markdown",
   "metadata": {
    "solution2": "shown",
    "solution2_first": true
   },
   "source": [
    "## Task 1.5\n",
    "\n",
    "Which of these variable names should not be used and why? Think about the answers before revealing the solutions.\n",
    "\n",
    "- `eye colour`\n",
    "- `test`\n",
    "- `surname`\n",
    "- `ph`\n",
    "- `0_value`\n",
    "- `lambda`\n",
    "- `alpha`\n",
    "- `O`\n",
    "- `cell_concentration`\n",
    "- `dna_seq`\n",
    "- `x`"
   ]
  },
  {
   "cell_type": "markdown",
   "metadata": {
    "solution2": "shown"
   },
   "source": [
    "Variable | Usable as a variable name?\n",
    ":--- | :---\n",
    "`eye colour` | no, cannot contain a space\n",
    "`test` | good\n",
    "`surname` | good\n",
    "`ph` | good\n",
    "`0_value` | cannot start with a number\n",
    "`lambda` | a reserved Python keyword\n",
    "`alpha` | good\n",
    "`O` | can be used but very similar to the number zero\n",
    "`cell_concentration` | good\n",
    "`dna_seq` | good\n",
    "`x` | okay, but may not be informative"
   ]
  },
  {
   "cell_type": "markdown",
   "metadata": {},
   "source": [
    "## Task 1.6\n",
    "\n",
    "In the self-study notebooks we saw that the increment operator `+=` increments a variable by some value. For example\n",
    "```python \n",
    "x = 2\n",
    "x += 10\n",
    "```\n",
    "increments `x` by 10 to give a final value of 12. It is a shorthand way of writing\n",
    "```python\n",
    "x = x + 10\n",
    "```\n",
    "\n",
    "Say we wanted to multiply a variable by some number, for example\n",
    "```python\n",
    "y = 5\n",
    "y = y * 10\n",
    "```\n",
    "to give a final answer of 50.\n",
    "\n",
    "1. Can you think of a **shorthand** way of writing that multiplication? Try it out in the following code cell.\n",
    "\n",
    "2. Also try out subtraction and division shorthands. "
   ]
  },
  {
   "cell_type": "code",
   "execution_count": null,
   "metadata": {},
   "outputs": [],
   "source": [
    "y = 5\n",
    "\n",
    "# Add your code below here\n"
   ]
  },
  {
   "cell_type": "markdown",
   "metadata": {},
   "source": [
    "## Task 1.7\n",
    "\n",
    "<div>\n",
    "<img src=\"attachment:butterfly-monarch-flower-monarch-butterfly.jpg\" width='50%' title=\"rawpixel.com CC0\"/>\n",
    "</div>\n",
    "\n",
    "Biologists use a technique called mark-and-recapture to estimate population sizes of animals. \n",
    "\n",
    "For example, researchers captured Monarch Butterflies in a field, marked them with an identification sticker then released them. The number of marked butterflies was recorded. \n",
    "\n",
    "The next day the biologists went to the same field and caught butterflies. Some of the caught butterflies had an identification sticker, these are recaptured butterflies. The other caught butterflies did not have a sticker so this was the first time they had been captured.\n",
    "\n",
    "The formula for estimating population size by the mark-and-recapture method is\n",
    "\n",
    "$$N = \\frac{M\\ \\times\\ C}{R}$$\n",
    "\n",
    "where *N* is the estimated population size, *M* is the number of captured, marked and released butterflies on the first day, *C* is the total number butterflies caught on the second day (recaptured plus unmarked), and *R* is the number of recaptured butterflies on the second day.\n",
    "\n",
    "The researchers captured, marked and released 100 butterflies on the first day and captured 120 butterflies in total on the second day of which 30 were marked.\n",
    "\n",
    "Using Python code calculate the estimated population size.\n",
    "\n",
    "*Hint*\n",
    "1. Use variables to store the values of *M*, *C* and *R*.\n",
    "2. Write the above formula in code to calculate *N*.\n",
    "3. Print the value of *N* in a f-string.\n",
    "\n",
    "<div class=\"alert alert-info\">\n",
    "Your output should be \n",
    "    \n",
    "    population size is 400 butterflies\n",
    "    \n",
    "</div>"
   ]
  },
  {
   "cell_type": "code",
   "execution_count": null,
   "metadata": {},
   "outputs": [],
   "source": []
  },
  {
   "cell_type": "markdown",
   "metadata": {},
   "source": [
    "## Task 1.8\n",
    "\n",
    "When the wind blows in cold weather, the air feels colder than it actually is\n",
    "because the movement of the air increases the rate of cooling for warm objects, like\n",
    "people. This effect is known as wind chill.\n",
    "\n",
    "This is the formula for calculating wind chill (the temperature it feels like)\n",
    "\n",
    "$$\\text{wind chill} = 13.12 + 0.6215\\times T − 11.37\\times  V^{0.16} + 0.3965\\times  T\\times  V^{0.16}$$\n",
    "\n",
    "\n",
    "where *T* is the air temperature in degrees Celsius and *V* is the wind speed in kilometres per hour.\n",
    "\n",
    "Write some code to calculate wind chill using the variables `T` and `V` below. Round your answer to 1dp.\n",
    "\n",
    "*Hint*: remember that, in Python, the multiplication operator is `*` and the power operator is `**`.\n",
    "\n",
    "<div class=\"alert alert-info\">\n",
    "Your answer should be\n",
    "    \n",
    "    wind chill is 2.7 deg C\n",
    "</div>"
   ]
  },
  {
   "cell_type": "code",
   "execution_count": null,
   "metadata": {},
   "outputs": [],
   "source": [
    "# Assign the value 5 degrees Celsius to the variable \"T\"\n",
    "T = 5\n",
    "# Assign the value 10 km/h to the variable \"V\"\n",
    "V = 10\n",
    "\n",
    "# Add your code below here\n"
   ]
  },
  {
   "cell_type": "markdown",
   "metadata": {},
   "source": [
    "## Task 1.9\n",
    "\n",
    "Watch [this short video](https://www.youtube.com/embed/gEwzDydciWc) on bacteria growing.\n",
    "\n",
    "[![Video of bacteria dividing](https://img.youtube.com/vi/gEwzDydciWc/2.jpg)](https://www.youtube.com/embed/gEwzDydciWc)\n",
    "\n",
    "Bacterial cells replicate by binary division. Under conditions of ample resources, the number of bacteria in a population grows exponentially. \n",
    "\n",
    "If we wish to predict the size of a population of bacteria after a given amount of time from a starting population we can use the formula\n",
    "\n",
    "$$N_t = N_02^{t/d}$$\n",
    "\n",
    "where *N<sub>t</sub>* is the population size after time *t*, *N<sub>0</sub>* is the starting population size at time *t* = 0, and *d* is the average time it takes between bacteria replications; also known as the *doubling time*.\n",
    "\n",
    "The units of *t* and *d* must be the same (e.g. hours or minutes).\n",
    "\n",
    "1. Let the starting population be 450 bacteria and the doubling time be 20 minutes. How many bacteria are there after 12 hours? Your calculation should be performed entirely with Python code.\n",
    "2. Use google to see if you can discover how to make your output have commas as the thousands separator. \n",
    "\n",
    "<div class=\"alert alert-info\">\n",
    "The answer is 30,923,764,531,200 cells.\n",
    "</div>"
   ]
  },
  {
   "cell_type": "code",
   "execution_count": null,
   "metadata": {},
   "outputs": [],
   "source": []
  },
  {
   "cell_type": "markdown",
   "metadata": {
    "collapsed": true
   },
   "source": [
    "## Task 1.10\n",
    "\n",
    "Each bacterium in **Task 1.9** has a mass of approximately 170 femtograms, which is 1.7x10<sup>-13</sup> g in scientific notation and 1.7e-13 g in e-notation. \n",
    "\n",
    "Using the code you wrote in Task 1.9, calculate the mass of the bacterial culture in kilograms after **16 hours**.\n",
    "\n",
    "<div class=\"alert alert-info\">\n",
    "The answer is 21.5 kg.\n",
    "</div>"
   ]
  },
  {
   "cell_type": "code",
   "execution_count": null,
   "metadata": {},
   "outputs": [],
   "source": []
  },
  {
   "cell_type": "markdown",
   "metadata": {},
   "source": [
    "# Modules"
   ]
  },
  {
   "cell_type": "markdown",
   "metadata": {},
   "source": [
    "Python can do a lot of things. But it can't do everything. Just like downloading apps onto your mobile phone for doing specific things like playing games or social media, you can add apps to Python to do specific things. In Python these apps are called **modules**. \n",
    "\n",
    "We'll be using Python modules in this course for things like plotting graphs and doing statistics. But first let's use a simple module called **math**. This module contains standard maths functions like square root, sine, log, etc. To get access to `math`'s functions we write the following at the start of our code:\n",
    "\n",
    "```python\n",
    "import math\n",
    "```\n",
    "This imports all of the maths functions contained in the `math` module. For example, to calculate the square root of 25 we can do the following\n",
    "\n",
    "```python\n",
    "print( math.sqrt(25) )\n",
    "```\n",
    "\n",
    "Note the period `.` between the module name `math` and the function we wish to use `sqrt`.\n",
    "\n",
    "The module also contains the value of $\\pi$ (the ratio of a circle's circumference to its diameter):\n",
    "\n",
    "```python\n",
    "print( math.pi )\n",
    "```"
   ]
  },
  {
   "cell_type": "markdown",
   "metadata": {},
   "source": [
    "## Task 1.11\n",
    "\n",
    "In [Exercise 1.3.5](../Self-study%20Notebooks/Exercises/1.3%20-%20Numbers%20and%20arithmetic.ipynb#Exercise-1.3.5) you found the circumference and area of a circle of radius 5.4 cm to 1dp. (You can click on the link to open the Exercise Notebook.)\n",
    "\n",
    "Repeat the exercise but using the value of $\\pi$ in the `math` module.\n",
    "\n",
    "Format your output with f-strings.\n",
    "\n",
    "<div class=\"alert alert-info\">\n",
    "Your output should be\n",
    "    \n",
    "    circumference = 33.9 cm\n",
    "    area = 91.6 cm\n",
    "</div>"
   ]
  },
  {
   "cell_type": "code",
   "execution_count": null,
   "metadata": {},
   "outputs": [],
   "source": []
  },
  {
   "cell_type": "markdown",
   "metadata": {},
   "source": [
    "## Task 1.12\n",
    "\n",
    "Another module is called **datetime** which allows us to do lots of useful things with dates and times. \n",
    "\n",
    "We import the **datetime** module with\n",
    "\n",
    "```python\n",
    "import datetime\n",
    "```\n",
    "\n",
    "Today's date is given by\n",
    "\n",
    "```python\n",
    "today = datetime.date.today()\n",
    "```\n",
    "\n",
    "which we can then print out.\n",
    "\n",
    "If you want to find out how old you are in days you can subtract your birth date from today's date. For example, if you were born on 26th November 2006 you'd write:\n",
    "\n",
    "```python\n",
    "birthdate = datetime.date(2006, 11, 26)\n",
    "print( today - birthdate )\n",
    "```\n",
    "\n",
    "Calculate your age in days."
   ]
  },
  {
   "cell_type": "code",
   "execution_count": null,
   "metadata": {},
   "outputs": [],
   "source": []
  },
  {
   "cell_type": "markdown",
   "metadata": {},
   "source": [
    "## Task 1.13\n",
    "\n",
    "Calculate how many days to Christmas."
   ]
  },
  {
   "cell_type": "code",
   "execution_count": null,
   "metadata": {},
   "outputs": [],
   "source": []
  }
 ],
 "metadata": {
  "kernelspec": {
   "display_name": ".venv",
   "language": "python",
   "name": "python3"
  },
  "language_info": {
   "codemirror_mode": {
    "name": "ipython",
    "version": 3
   },
   "file_extension": ".py",
   "mimetype": "text/x-python",
   "name": "python",
   "nbconvert_exporter": "python",
   "pygments_lexer": "ipython3",
   "version": "3.13.5"
  },
  "varInspector": {
   "cols": {
    "lenName": 16,
    "lenType": 16,
    "lenVar": 40
   },
   "kernels_config": {
    "python": {
     "delete_cmd_postfix": "",
     "delete_cmd_prefix": "del ",
     "library": "var_list.py",
     "varRefreshCmd": "print(var_dic_list())"
    },
    "r": {
     "delete_cmd_postfix": ") ",
     "delete_cmd_prefix": "rm(",
     "library": "var_list.r",
     "varRefreshCmd": "cat(var_dic_list()) "
    }
   },
   "types_to_exclude": [
    "module",
    "function",
    "builtin_function_or_method",
    "instance",
    "_Feature"
   ],
   "window_display": false
  }
 },
 "nbformat": 4,
 "nbformat_minor": 4
}
