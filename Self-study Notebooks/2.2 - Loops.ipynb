{
 "cells": [
  {
   "cell_type": "markdown",
   "metadata": {},
   "source": [
    "# Loops"
   ]
  },
  {
   "cell_type": "markdown",
   "metadata": {},
   "source": [
    "<div class=\"alert alert-warning\" fade in>\n",
    "\n",
    "**In this notebook you will learn how to use a loop to calculate the average of a list of numbers.**\n",
    "    \n",
    "</div>"
   ]
  },
  {
   "cell_type": "markdown",
   "metadata": {},
   "source": [
    "## Looping through a list of numbers"
   ]
  },
  {
   "cell_type": "markdown",
   "metadata": {
    "button": false,
    "new_sheet": false
   },
   "source": [
    "To help you understanding the usefulness of lists, let's find the average diameter of types of white blood cells found in human blood. The diameters are given in this table.\n",
    "\n",
    "<div>\n",
    "<img src=\"attachment:WhiteBloodCells.png\" title=\"Blausen.com staff (2014). Medical gallery of Blausen Medical 2014. WikiJournal of Medicine 1 (2). DOI:10.15347/wjm/2014.010. ISSN 2002-4436. - Own work\"/>\n",
    "</div>\n",
    "\n",
    "Cell type | Diameter ($\\mu\\text{m}$)\n",
    ":---|:---:\n",
    "Neutrophil | 11\n",
    "Eosinophil | 11\n",
    "Basophil | 13.5\n",
    "Small lymphocyte | 7.5\n",
    "Large lymphocyte | 13.5\n",
    "Monocyte | 22.5"
   ]
  },
  {
   "cell_type": "markdown",
   "metadata": {
    "button": false,
    "new_sheet": false
   },
   "source": [
    "We can store all the diameters in a single list variable like so:\n",
    "```python\n",
    "diameters = [11, 11, 13.5, 7.5, 13.5, 22.5]\n",
    "```\n",
    "\n",
    "Using this list let's find the average diameter and assign it to a variable called `average_diameter`.\n",
    "\n",
    "The following code shows one way - but not the best way - of doing this.\n",
    "\n",
    "The average is the sum of all the values, which we access using the each item's index within the list, divided by the number of items in the list, which is six. Remember that `diameters[0]` refers to the first item in the list, in this case 11.\n",
    "\n",
    "<div class=\"alert alert-info\">\n",
    "\n",
    "1. Look at the code below and see if you can understand what it is trying to do.\n",
    "2. Run the code.\n",
    "</div>"
   ]
  },
  {
   "cell_type": "code",
   "execution_count": 1,
   "metadata": {
    "button": false,
    "new_sheet": false
   },
   "outputs": [
    {
     "name": "stdout",
     "output_type": "stream",
     "text": [
      "Average diameter = 13.17 micrometers\n"
     ]
    }
   ],
   "source": [
    "diameters = [11, 11, 13.5, 7.5, 13.5, 22.5]\n",
    "\n",
    "# Calculate the average diameter: sum the values and divide by the number of values.\n",
    "average_diameters = (diameters[0] + diameters[1] + diameters[2] + diameters[3] + diameters[4] + diameters[5]) / 6\n",
    "\n",
    "print( f'Average diameter = {average_diameters:.2f} micrometers' )"
   ]
  },
  {
   "cell_type": "markdown",
   "metadata": {
    "button": false,
    "new_sheet": false
   },
   "source": [
    "Calculating the average diameter like this is tedious and inefficient. It is also not re-usable. Which means that if we have a different set of data with a different number of values we would have to write the whole code over again.\n",
    "\n",
    "What we really want is code that will take a list of numbers **of any size** and calculate the average of those numbers. That's where loops come in handy."
   ]
  },
  {
   "cell_type": "markdown",
   "metadata": {},
   "source": [
    "## How to calculate an average by looping"
   ]
  },
  {
   "cell_type": "markdown",
   "metadata": {},
   "source": [
    "To calculate an average of a list of numbers we need two things: \n",
    "1. the number of values in the list and \n",
    "2. the sum of all the values in the list.\n",
    "\n",
    "Step 1 is simple. The number of values, or items, in a list is its length which is obtained with the `len()` function described in the last notebook. Something like:\n",
    "\n",
    "```python\n",
    "n = len(diameters)\n",
    "\n",
    "```\n",
    "\n",
    "Next let's see how looping can help solve Step 2: sum of all values in the list. \n",
    "\n",
    "Before we do something as complicated as that, let's first write some code to loop through the list `diameters` and print out each of its values.\n",
    "\n",
    "<div class=\"alert alert-info\">\n",
    "\n",
    "1. Look at the following code and see if you can predict what it will do.\n",
    "2. Run the code and see if your prediction is correct.\n",
    "\n",
    "</div>"
   ]
  },
  {
   "cell_type": "code",
   "execution_count": 2,
   "metadata": {},
   "outputs": [
    {
     "name": "stdout",
     "output_type": "stream",
     "text": [
      "11\n",
      "11\n",
      "13.5\n",
      "7.5\n",
      "13.5\n",
      "22.5\n"
     ]
    }
   ],
   "source": [
    "diameters = [11, 11, 13.5, 7.5, 13.5, 22.5]\n",
    "\n",
    "# Loop through diameters and print each item.\n",
    "\n",
    "for d in diameters:\n",
    "    print(d)"
   ]
  },
  {
   "cell_type": "markdown",
   "metadata": {},
   "source": [
    "The loop starts at the line\n",
    "```python\n",
    "for d in diameters:\n",
    "\n",
    "```\n",
    "The colon at the end of this line is important; it tells Python that what follows is within the loop.\n",
    "\n",
    "The line\n",
    "```python\n",
    "    print(d)\n",
    "\n",
    "```\n",
    "is **indented**. This tells Python that it is within the loop. If we remove the indentation (try it) we'll get an `IndentationError` because Python is expecting to find indented code just after we write a `for` loop. \n",
    "\n",
    "The code works like this. The first item in the list variable `diameters` is the number 11. The line of code `for d in diameters:` assigns 11 to the variable called `d`. Which means that the value of `d` is 11. We then print the value of `d`, i.e., we print 11. \n",
    "\n",
    "The loop moves onto the second item in `diameters` which is the number 11. The variable `d` is assigned the value 11 and then printed. \n",
    "\n",
    "The loop moves onto the third item in `diameters` which is 13.5. The variable `d` is assigned the value of 13.5 and then printed. \n",
    "\n",
    "And so on until the end of the `diameters` is reached and the last item, which is 22.5, is printed. At which point the code exits the loop and it is finished."
   ]
  },
  {
   "cell_type": "markdown",
   "metadata": {},
   "source": [
    "## Indentation matters: IndentationError"
   ]
  },
  {
   "cell_type": "markdown",
   "metadata": {},
   "source": [
    "Python requires us to indent statements within a loop. Indentation makes code easier to read.\n",
    "\n",
    "If we forget to indent code then Python complains with an `IndentationError`.\n",
    "\n",
    "<div class=\"alert alert-info\">\n",
    "\n",
    "\n",
    "In the code above, un-indent the `print(d)` statement so the code looks like this:\n",
    "\n",
    "```python\n",
    "for d in diameters:\n",
    "print(d)\n",
    "```\n",
    "and run it.\n",
    "</div>\n",
    "\n",
    "We get an `IndentationError: expected an indented block`.\n",
    "\n",
    "There's a quick way to indent and un-indent code. \n",
    "1. First select the lines of code you want to (un)-indent either with your mouse or using **Shift-down arrow**.\n",
    "2. Press **Ctrl-]** to indent the selected lines or **Ctrl-[** to un-indent the selected lines."
   ]
  },
  {
   "cell_type": "markdown",
   "metadata": {},
   "source": [
    "## The iterating variable"
   ]
  },
  {
   "cell_type": "markdown",
   "metadata": {},
   "source": [
    "The variable `d` in `for d in diameters:` has a special name because it forms part of the `for` loop. It is called an **iterating variable**.\n",
    "\n",
    "Many newcomers to Python believe that the name of the iterating variable influences the function of the code. This is not the case. The name of the iterating variable can be any valid variable name. It is usually chosen to indicate what the variable contains. \n",
    "\n",
    "<div class=\"alert alert-info\">\n",
    "\n",
    "1. Look at the following code and see if you can predict what it will do.\n",
    "2. Run the code and see if your prediction is correct.\n",
    "\n",
    "</div>"
   ]
  },
  {
   "cell_type": "code",
   "execution_count": 3,
   "metadata": {},
   "outputs": [
    {
     "name": "stdout",
     "output_type": "stream",
     "text": [
      "11\n",
      "11\n",
      "13.5\n",
      "7.5\n",
      "13.5\n",
      "22.5\n",
      "\n",
      "11\n",
      "11\n",
      "13.5\n",
      "7.5\n",
      "13.5\n",
      "22.5\n"
     ]
    }
   ],
   "source": [
    "diameters = [11, 11, 13.5, 7.5, 13.5, 22.5]\n",
    "\n",
    "for d in diameters:\n",
    "    print(d)\n",
    "    \n",
    "print() # Print a blank line.\n",
    "\n",
    "for t_shirt in diameters:\n",
    "    print(t_shirt)"
   ]
  },
  {
   "cell_type": "markdown",
   "metadata": {},
   "source": [
    "Both loops are equivalent and do exactly the same thing. \n",
    "\n",
    "It is best to name the iterating variable something meaningful. The name `d` is meaningful in this loop, whereas `t_shirt` is clearly not meaningful.\n",
    "\n",
    "<div class=\"alert alert-info\">\n",
    "\n",
    "Experiment with the above examples and you will see that any non-reserved word can be used as an iterating variable - as long as you change the variable within the loop to match.\n",
    "</div>"
   ]
  },
  {
   "cell_type": "markdown",
   "metadata": {},
   "source": [
    "## Sum all the values in a list"
   ]
  },
  {
   "cell_type": "markdown",
   "metadata": {},
   "source": [
    "Now let's see how to sum all the values in the list `diameters`.\n",
    "\n",
    "Let's plan how we might do this by writing down something called an algorithm. An algorithm is a step-by-step procedure for solving a certain task.\n",
    "\n",
    "1. We need a variable that keeps a running sum of the diameters. This variable will initially be set to zero.\n",
    "2. Loop through the list one diameter at a time.\n",
    "3. Add the current diameter to the running sum.\n",
    "\n",
    "The following code shows how this is implemented.\n",
    "\n",
    "<div class=\"alert alert-info\">\n",
    "\n",
    "1. Look at the following code and see if you can predict what it will do.\n",
    "2. Run the code and see if your prediction is correct.\n",
    "\n",
    "</div>"
   ]
  },
  {
   "cell_type": "code",
   "execution_count": 4,
   "metadata": {},
   "outputs": [
    {
     "name": "stdout",
     "output_type": "stream",
     "text": [
      "This diameter is 11 so the running sum of diameters = 11\n",
      "This diameter is 11 so the running sum of diameters = 22\n",
      "This diameter is 13.5 so the running sum of diameters = 35.5\n",
      "This diameter is 7.5 so the running sum of diameters = 43.0\n",
      "This diameter is 13.5 so the running sum of diameters = 56.5\n",
      "This diameter is 22.5 so the running sum of diameters = 79.0\n",
      "The final sum of diameters is 79.0 micrometers\n"
     ]
    }
   ],
   "source": [
    "diameters = [11, 11, 13.5, 7.5, 13.5, 22.5]\n",
    "\n",
    "# Initialise the running sum of diameters to zero.\n",
    "sum_of_diameters = 0\n",
    "\n",
    "# Loop through the list one diameter at a time.\n",
    "for d in diameters:\n",
    "\n",
    "    # Add the current diameter to the running sum of diameters.\n",
    "    sum_of_diameters += d\n",
    "\n",
    "    # Print out the running sum to see how it grows.\n",
    "    print( f'This diameter is {d} so the running sum of diameters = {sum_of_diameters}' )\n",
    "\n",
    "print( f'The final sum of diameters is {sum_of_diameters} micrometers' )"
   ]
  },
  {
   "cell_type": "markdown",
   "metadata": {},
   "source": [
    "The first thing we need is a variable to store the sum of the diameters as we loop through the list one item at a time. Let's call this variable `sum_of_diameters` so that it's clear what this variable contains. \n",
    "\n",
    "We have to initialise its value to zero:\n",
    "```python\n",
    "sum_of_diameters = 0\n",
    "```\n",
    "\n",
    "The loop starts at the line `for d in diameters:`. The colon at the end of the line tells Python that anything indented below it is within the loop.\n",
    "\n",
    "The iterating variable `d` is assigned the value of each item in the loop one at a time. On the first iteration of the loop `d` is assigned the value 11.\n",
    "\n",
    "The running sum `sum_of_diameters` is incremented by the value of `d`. Notice that the line `sum_of_diameters += d` is indented. This tells Python that it is within the loop.\n",
    "\n",
    "We print out the values of `d` and `sum_of_diameters` to show what is happening in the loop. Normally we wouldn't do this.\n",
    "\n",
    "As there are six items in the list, the loop will execute six times, each time incrementing `sum_of_diameters` by the current value of `d`.\n",
    "\n",
    "Once the loop has finished the code drops out of the bottom of the loop (the first non-indented line below the loop) and prints the final sum in an f-string. "
   ]
  },
  {
   "cell_type": "markdown",
   "metadata": {},
   "source": [
    "## Average value of items in a list"
   ]
  },
  {
   "cell_type": "markdown",
   "metadata": {},
   "source": [
    "We're almost there. We have the number of values in the list `diameters` and we've summed them. We now need to put it all together into a small program to calculate the average.\n",
    "\n",
    "<div class=\"alert alert-info\">\n",
    "\n",
    "Look at the following code to make sure you understand what it does. Then run it.\n",
    "    \n",
    "The `print()` statement within the loop has been removed as it is not needed.\n",
    "</div>"
   ]
  },
  {
   "cell_type": "code",
   "execution_count": 5,
   "metadata": {},
   "outputs": [
    {
     "name": "stdout",
     "output_type": "stream",
     "text": [
      "There are 6 items in the list\n",
      "The sum of diameters is 79.0 micrometers\n",
      "The average diameter of white blood cell types is 13.17 micrometers\n"
     ]
    }
   ],
   "source": [
    "diameters = [11, 11, 13.5, 7.5, 13.5, 22.5]\n",
    "\n",
    "# The number of items in the list diameters.\n",
    "n = len( diameters )\n",
    "\n",
    "# Initialise the running sum of diameters to zero.\n",
    "sum_of_diameters = 0\n",
    "\n",
    "# Loop through the list summing the diameters one at a time.\n",
    "for d in diameters:\n",
    "    sum_of_diameters += d\n",
    "\n",
    "# Calculate the average diameter.\n",
    "average_diameters = sum_of_diameters / n\n",
    "\n",
    "print( f'There are {n} items in the list' )\n",
    "print( f'The sum of diameters is {sum_of_diameters} micrometers' )\n",
    "print( f'The average diameter of white blood cell types is {average_diameters:.2f} micrometers' )"
   ]
  },
  {
   "cell_type": "markdown",
   "metadata": {
    "button": false,
    "new_sheet": false
   },
   "source": [
    "This code produces exactly the same average as the code at the top of the Notebook. It looks more complicated - it is - but it has two important advantages: it is general and reusable. \n",
    "\n",
    "It is general because we can calculate the average of **any** list of numbers however long it may be. It is reusable because we don't need to edit the code each time we want to calculate the average of a list of numbers."
   ]
  },
  {
   "cell_type": "markdown",
   "metadata": {},
   "source": [
    "## Exercise Notebook"
   ]
  },
  {
   "cell_type": "markdown",
   "metadata": {},
   "source": [
    "[Loops](Exercises/2.2%20-%20Loops.ipynb)"
   ]
  }
 ],
 "metadata": {
  "anaconda-cloud": {},
  "hide_input": false,
  "kernelspec": {
   "display_name": ".venv",
   "language": "python",
   "name": "python3"
  },
  "language_info": {
   "codemirror_mode": {
    "name": "ipython",
    "version": 3
   },
   "file_extension": ".py",
   "mimetype": "text/x-python",
   "name": "python",
   "nbconvert_exporter": "python",
   "pygments_lexer": "ipython3",
   "version": "3.13.5"
  },
  "varInspector": {
   "cols": {
    "lenName": 16,
    "lenType": 16,
    "lenVar": 40
   },
   "kernels_config": {
    "python": {
     "delete_cmd_postfix": "",
     "delete_cmd_prefix": "del ",
     "library": "var_list.py",
     "varRefreshCmd": "print(var_dic_list())"
    },
    "r": {
     "delete_cmd_postfix": ") ",
     "delete_cmd_prefix": "rm(",
     "library": "var_list.r",
     "varRefreshCmd": "cat(var_dic_list()) "
    }
   },
   "types_to_exclude": [
    "module",
    "function",
    "builtin_function_or_method",
    "instance",
    "_Feature"
   ],
   "window_display": false
  }
 },
 "nbformat": 4,
 "nbformat_minor": 4
}
