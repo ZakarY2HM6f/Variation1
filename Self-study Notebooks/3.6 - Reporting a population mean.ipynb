{
 "cells": [
  {
   "cell_type": "markdown",
   "id": "592da612",
   "metadata": {},
   "source": [
    "# Reporting estimates of the population mean"
   ]
  },
  {
   "cell_type": "markdown",
   "id": "d5dc45d8",
   "metadata": {},
   "source": [
    "<div class=\"alert alert-warning\">\n",
    "\n",
    "**In this notebook you will learn**\n",
    "- how to report an estimate of a population mean as you would in a report of scientific paper\n",
    "- how to visualise an estimate of a population mean with a bar plot\n",
    "    \n",
    "</div>"
   ]
  },
  {
   "cell_type": "markdown",
   "id": "424ba86f",
   "metadata": {},
   "source": [
    "## Reporting the estimate of the population mean and its standard error"
   ]
  },
  {
   "cell_type": "markdown",
   "id": "7b55ecc8",
   "metadata": {},
   "source": [
    "In scientific writing the estimate of the population mean and its standard error are reported in a variety of ways, none is better or worse than the other. For example:\n",
    "\n",
    "- \"Mean beak depth of medium ground finches on Daphne Major in 1976 is 9.49 mm (SEM: 0.11 mm).\"\n",
    "- \"Mean beak depth of medium ground finches on Daphne Major in 1976 is 9.49 mm, SE $\\pm$0.11 mm.\"\n",
    "- \"Mean beak depth of medium ground finches on Daphne Major in 1976 is 9.49$\\pm$0.11 mm.\""
   ]
  },
  {
   "cell_type": "markdown",
   "id": "0ccef85c",
   "metadata": {},
   "source": [
    "## An alternative measure of precision: The 95% confidence interval"
   ]
  },
  {
   "cell_type": "markdown",
   "id": "eba04024",
   "metadata": {},
   "source": [
    "An alternative way to report the precision of the estimate of the population mean is to use something called a **95% confidence interval** (95% CI for short). This uses the standard error so it is pretty much the same thing. We calculate the lower and an upper limits of the interval with the formulae\n",
    "\n",
    "$$\\text{lower limit} = \\bar{x}\\ - 2 \\times \\text{SEM}$$\n",
    "$$\\text{upper limit} = \\bar{x}\\ + 2 \\times \\text{SEM}$$\n",
    "\n",
    "Let's do these calculations for the beak depths.\n",
    "\n",
    "<div class=\"alert alert-info\">\n",
    "\n",
    "Read the code below to understand what it does, then run it.\n",
    "</div>"
   ]
  },
  {
   "cell_type": "code",
   "execution_count": 1,
   "id": "faf8bf38",
   "metadata": {},
   "outputs": [
    {
     "name": "stdout",
     "output_type": "stream",
     "text": [
      "lower limit = 9.27 mm\n",
      "upper limit = 9.71 mm\n"
     ]
    }
   ],
   "source": [
    "import pandas as pd\n",
    "import seaborn as sns\n",
    "import math  # Import math for the square root function\n",
    "\n",
    "# Read in the medium ground finches beak depth data.\n",
    "beak_depths = pd.read_csv('Datasets/finches beak depth.csv')\n",
    "\n",
    "xbar = beak_depths['1976'].mean() # sample mean\n",
    "n = beak_depths['1976'].count()   # sample size\n",
    "s = beak_depths['1976'].std()     # sample standard deviation\n",
    "\n",
    "SEM = s / math.sqrt(n)   # the standard error of the mean for the 1976 finches\n",
    "\n",
    "lower_limit = xbar - 2 * SEM   # Lower limit of 95% CI\n",
    "upper_limit = xbar + 2 * SEM   # Upper limit of 95% CI\n",
    "\n",
    "print(f'lower limit = {lower_limit:.2f} mm')\n",
    "print(f'upper limit = {upper_limit:.2f} mm')"
   ]
  },
  {
   "cell_type": "markdown",
   "id": "6203c00b",
   "metadata": {},
   "source": [
    "Aside: We won't go into the details of why this is the **95%** confidence interval. Other than to note that, according to the 68-95-99.7% rule, 95% of the sample means lie within two standard deviations (i.e., two standard errors) of the estimate of the population mean, i.e., $\\bar{x}\\pm 2\\times \\mathrm{SEM}$. "
   ]
  },
  {
   "cell_type": "markdown",
   "id": "510398f3",
   "metadata": {},
   "source": [
    "## Reporting a 95% confidence interval of the population mean"
   ]
  },
  {
   "cell_type": "markdown",
   "id": "d8872df8",
   "metadata": {},
   "source": [
    "In scientific writing a 95% CI of the population mean is reported in a variety of ways, none is better or worse than the other. For example:\n",
    "\n",
    "- \"Mean beak depth of medium ground finches on Daphne Major in 1976 is 9.49 mm (95% CI: 9.27 - 9.71 mm).\"\n",
    "- \"Mean beak depth of medium ground finches on Daphne Major in 1976 is 9.49 mm, 95% CI [9.27 - 9.71] mm].\""
   ]
  },
  {
   "cell_type": "markdown",
   "id": "45b3c357",
   "metadata": {},
   "source": [
    "## Visualising estimates of population means with bar plots"
   ]
  },
  {
   "cell_type": "markdown",
   "id": "e944d377",
   "metadata": {},
   "source": [
    "Scientific papers often represent estimates of population means in graphs called bar plots. The estimates are represented by vertical filled bars and the precision by lines (called error bars or whiskers) centred on the tops of each bar. These plots are useful when there are two or more things to compare. For example, comparison between years.\n",
    "\n",
    "\n",
    "This is the seaborn function to make a bar plot.\n",
    "\n",
    "```python\n",
    "g = sns.catplot(beak_depths, kind='bar')\n",
    "```\n",
    "\n",
    "By default seaborn uses the 95% CI for the error bars. This can be changed to standard errors with\n",
    "```python\n",
    "g = sns.catplot(beak_depths, kind='bar', errorbar='se')\n",
    "```\n",
    "\n",
    "But make sure in your figure caption to state whether you are using confidence intervals or standard errors so that readers know how to interpret the error bars.\n",
    "\n",
    "\n",
    "<div class=\"alert alert-info\">\n",
    "Run the following code to create a bar plot of the beak depth data with 95% CI error bars.\n",
    "</div>"
   ]
  },
  {
   "cell_type": "code",
   "execution_count": 2,
   "id": "00737d55",
   "metadata": {},
   "outputs": [
    {
     "data": {
      "image/png": "[encoded data removed]",
      "text/plain": [
       "<Figure size 500x500 with 1 Axes>"
      ]
     },
     "metadata": {},
     "output_type": "display_data"
    }
   ],
   "source": [
    "g = sns.catplot(data=beak_depths, kind='bar')\n",
    "\n",
    "# Add some annotation\n",
    "g.ax.set_xlabel('Year')\n",
    "g.ax.set_ylabel('Beak depth (mm)')\n",
    "g.ax.set_title('Beak depths of medium ground finches\\non Daphne Major in 1976 and 1978');"
   ]
  },
  {
   "cell_type": "markdown",
   "id": "167090a1",
   "metadata": {},
   "source": [
    "The bar plot is useful because it compares the things we are actually interested in: the population means. But it hides the data; we have no indication of how much data there is, how variable the data are in each year, nor what the shape of the distributions are. Therefore, it can be useful to display both the data in one plot (e.g., a histogram) and the population mean estimates in another plot (bar plot). Or, once you've mastered the basics, you can create more complex graphs that combine data and estimates in a single plot."
   ]
  },
  {
   "cell_type": "markdown",
   "id": "4869109d",
   "metadata": {},
   "source": [
    "## Exercise Notebook"
   ]
  },
  {
   "cell_type": "markdown",
   "id": "46695301",
   "metadata": {},
   "source": [
    "[Estimating a population mean](Exercises/3.6%20-%20Estimating%20a%20population%20mean.ipynb)"
   ]
  }
 ],
 "metadata": {
  "kernelspec": {
   "display_name": ".venv",
   "language": "python",
   "name": "python3"
  },
  "language_info": {
   "codemirror_mode": {
    "name": "ipython",
    "version": 3
   },
   "file_extension": ".py",
   "mimetype": "text/x-python",
   "name": "python",
   "nbconvert_exporter": "python",
   "pygments_lexer": "ipython3",
   "version": "3.13.5"
  }
 },
 "nbformat": 4,
 "nbformat_minor": 5
}
