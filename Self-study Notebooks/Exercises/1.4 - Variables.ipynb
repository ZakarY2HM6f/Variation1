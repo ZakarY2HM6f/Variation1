{
 "cells": [
  {
   "cell_type": "markdown",
   "metadata": {
    "solution2": "hidden",
    "solution2_first": true
   },
   "source": [
    "### Exercise 1.4.1\n",
    "\n",
    "The following code has an error. Correct the code to make it work.\n",
    "\n",
    "```python\n",
    "garden area = 168\n",
    "```"
   ]
  },
  {
   "cell_type": "markdown",
   "metadata": {
    "solution2": "hidden"
   },
   "source": [
    "> Python variable names cannot include spaces\n",
    "\n",
    "```python\n",
    "garden_area = 168\n",
    "```"
   ]
  },
  {
   "cell_type": "code",
   "execution_count": null,
   "metadata": {},
   "outputs": [],
   "source": [
    "garden area = 168"
   ]
  },
  {
   "cell_type": "markdown",
   "metadata": {
    "solution2": "hidden",
    "solution2_first": true
   },
   "source": [
    "### Exercise 1.4.2\n",
    "\n",
    "The following code has an error. Correct the code to make it work.\n",
    "\n",
    "```python\n",
    "yield = 10000\n",
    "```"
   ]
  },
  {
   "cell_type": "markdown",
   "metadata": {
    "solution2": "hidden"
   },
   "source": [
    "> Reserved Python keywords, such as `yield`, cannot be used as variable names."
   ]
  },
  {
   "cell_type": "code",
   "execution_count": 1,
   "metadata": {},
   "outputs": [],
   "source": [
    "crop_yield = 10000"
   ]
  },
  {
   "cell_type": "markdown",
   "metadata": {
    "solution2": "hidden",
    "solution2_first": true
   },
   "source": [
    "### Exercise 1.4.3\n",
    "\n",
    "The following code has an error. Correct the code to make it work.\n",
    "\n",
    "```python\n",
    "FlyCount = 10\n",
    "FlyCount = Flycount + 20\n",
    "```"
   ]
  },
  {
   "cell_type": "markdown",
   "metadata": {
    "solution2": "hidden"
   },
   "source": [
    "> Variable names  are case-sensitive. So `FlyCount` and `Flycount` are different variables. `Flycount` was not assigned a value. So when we try to add 20 to it Python has no record of it in memory and so raises an error.\n",
    "```python\n",
    "FlyCount = 10\n",
    "FlyCount = FlyCount + 20\n",
    "```"
   ]
  },
  {
   "cell_type": "code",
   "execution_count": 2,
   "metadata": {},
   "outputs": [],
   "source": [
    "FlyCount = 10\n",
    "FlyCount = FlyCount + 20"
   ]
  },
  {
   "cell_type": "markdown",
   "metadata": {
    "solution2": "hidden",
    "solution2_first": true
   },
   "source": [
    "### Exercise 1.4.4\n",
    "\n",
    "The following code has an error. Correct the code to make it work.\n",
    "\n",
    "```python\n",
    "fly_count = 10\n",
    "fly_count + = 20\n",
    "```"
   ]
  },
  {
   "cell_type": "markdown",
   "metadata": {
    "solution2": "hidden"
   },
   "source": [
    "> The increment operator `+=` cannot have a space in it:\n",
    "\n",
    "```python\n",
    "fly_count = 10\n",
    "fly_count += 20\n",
    "```"
   ]
  },
  {
   "cell_type": "code",
   "execution_count": 3,
   "metadata": {},
   "outputs": [],
   "source": [
    "fly_count = 10\n",
    "fly_count += 20"
   ]
  },
  {
   "cell_type": "markdown",
   "metadata": {
    "solution2": "hidden",
    "solution2_first": true
   },
   "source": [
    "### Exercise 1.4.5\n",
    "\n",
    "The following code has an error. Correct the code to make it work.\n",
    "\n",
    "```python\n",
    "print(num_flies)\n",
    "num_flies = 10\n",
    "```"
   ]
  },
  {
   "cell_type": "markdown",
   "metadata": {
    "solution2": "hidden"
   },
   "source": [
    "> A variable has to have a value assigned to it before it can be used in calculations or printed.\n",
    "\n",
    "```python\n",
    "num_flies = 10\n",
    "print(num_flies)\n",
    "```"
   ]
  },
  {
   "cell_type": "code",
   "execution_count": 4,
   "metadata": {},
   "outputs": [
    {
     "name": "stdout",
     "output_type": "stream",
     "text": [
      "10\n"
     ]
    }
   ],
   "source": [
    "num_flies = 10\n",
    "print(num_flies)"
   ]
  },
  {
   "cell_type": "markdown",
   "metadata": {
    "solution2": "hidden",
    "solution2_first": true
   },
   "source": [
    "### Exercise 1.4.6\n",
    "\n",
    "Assign the value of 45 to the variable named `number_of_flies`."
   ]
  },
  {
   "cell_type": "code",
   "execution_count": 5,
   "metadata": {
    "solution2": "hidden"
   },
   "outputs": [],
   "source": [
    "number_of_flies = 45"
   ]
  },
  {
   "cell_type": "markdown",
   "metadata": {
    "solution2": "hidden",
    "solution2_first": true
   },
   "source": [
    "### Exercise 1.4.7\n",
    "\n",
    "Print out the value of the variable `number_of_flies`."
   ]
  },
  {
   "cell_type": "code",
   "execution_count": 6,
   "metadata": {
    "solution2": "hidden"
   },
   "outputs": [
    {
     "name": "stdout",
     "output_type": "stream",
     "text": [
      "45\n"
     ]
    }
   ],
   "source": [
    "print( number_of_flies )"
   ]
  },
  {
   "cell_type": "markdown",
   "metadata": {
    "solution2": "hidden",
    "solution2_first": true
   },
   "source": [
    "### Exercise 1.4.8\n",
    "\n",
    "Increment the variable `number_of_flies` by 12 using the `+=` increment operator and print its new value.\n",
    "\n",
    "<div class=\"alert alert-success\">\n",
    "Note that you do not need to set\n",
    "\n",
    "```python\n",
    "number_of_flies = 45\n",
    "```\n",
    "in the code cell below. Python remembers that you have already set it in Exercise 1.4.6 above. \n",
    "</div>\n",
    "\n",
    "<div class=\"alert alert-info\">\n",
    "Your answer should be 57.\n",
    "</div>"
   ]
  },
  {
   "cell_type": "code",
   "execution_count": 7,
   "metadata": {
    "solution2": "hidden"
   },
   "outputs": [
    {
     "name": "stdout",
     "output_type": "stream",
     "text": [
      "57\n"
     ]
    }
   ],
   "source": [
    "number_of_flies += 12\n",
    "\n",
    "print( number_of_flies )"
   ]
  },
  {
   "cell_type": "markdown",
   "metadata": {
    "solution2": "hidden",
    "solution2_first": true
   },
   "source": [
    "### Exercise 1.4.9\n",
    "\n",
    "<div>\n",
    "<img src=\"attachment:penguins-2.jpg\" width='50%' title=\"rawpixel.com CC0 1.0\"/>\n",
    "</div>\n",
    "\n",
    "Scientists counted the number of emperor penguins that joined an Antarctic breeding colony on each day for a whole season. The first three day's records are given in the following table\n",
    "\n",
    "Day | New colonists\n",
    ":--- | ---:\n",
    "1st March | 10\n",
    "2nd March | 156\n",
    "3rd March | 73\n",
    "\n",
    "Using a variable called `number_penguins` print out the cumulative number of penguins in the colony on each of the first three days. Use the increment operator, `+=`, to increment the variable.\n",
    "\n",
    "<div class=\"alert alert-info\">\n",
    "Your answer should be\n",
    "    \n",
    "    10\n",
    "    166\n",
    "    239\n",
    "</div>"
   ]
  },
  {
   "cell_type": "code",
   "execution_count": 8,
   "metadata": {
    "solution2": "hidden"
   },
   "outputs": [
    {
     "name": "stdout",
     "output_type": "stream",
     "text": [
      "10\n",
      "166\n",
      "239\n"
     ]
    }
   ],
   "source": [
    "number_penguins = 10\n",
    "print( number_penguins )\n",
    "\n",
    "number_penguins += 156\n",
    "print( number_penguins )\n",
    "\n",
    "number_penguins += 73\n",
    "print( number_penguins )"
   ]
  },
  {
   "cell_type": "markdown",
   "metadata": {
    "solution2": "hidden",
    "solution2_first": true
   },
   "source": [
    "### Exercise 1.4.10\n",
    "\n",
    "Using the variable `Fahrenheit` below, write code to convert it to degrees Celsius and print the answer. The conversion formula is\n",
    "\n",
    "$$\\text{Celsius} = \\frac{5}{9}(\\text{Fahrenheit}-32)$$\n",
    "\n",
    "<div class=\"alert alert-info\">\n",
    "Your answer should be 36.7 deg C.\n",
    "    \n",
    "    \n",
    "</div>"
   ]
  },
  {
   "cell_type": "code",
   "execution_count": 30,
   "metadata": {
    "solution2": "hidden"
   },
   "outputs": [
    {
     "name": "stdout",
     "output_type": "stream",
     "text": [
      "36.7\n"
     ]
    }
   ],
   "source": [
    "Fahrenheit = 98\n",
    "\n",
    "Celsius = 5/9 * (Fahrenheit - 32)\n",
    "\n",
    "print(f'{Celsius:.1f}')"
   ]
  },
  {
   "cell_type": "markdown",
   "metadata": {},
   "source": [
    "## Next Notebook"
   ]
  },
  {
   "cell_type": "markdown",
   "metadata": {},
   "source": [
    "[Strings: working with text](../1.5%20-%20Strings:%20working%20with%20text.ipynb)"
   ]
  }
 ],
 "metadata": {
  "kernelspec": {
   "display_name": ".venv",
   "language": "python",
   "name": "python3"
  },
  "language_info": {
   "codemirror_mode": {
    "name": "ipython",
    "version": 3
   },
   "file_extension": ".py",
   "mimetype": "text/x-python",
   "name": "python",
   "nbconvert_exporter": "python",
   "pygments_lexer": "ipython3",
   "version": "3.13.5"
  },
  "varInspector": {
   "cols": {
    "lenName": 16,
    "lenType": 16,
    "lenVar": 40
   },
   "kernels_config": {
    "python": {
     "delete_cmd_postfix": "",
     "delete_cmd_prefix": "del ",
     "library": "var_list.py",
     "varRefreshCmd": "print(var_dic_list())"
    },
    "r": {
     "delete_cmd_postfix": ") ",
     "delete_cmd_prefix": "rm(",
     "library": "var_list.r",
     "varRefreshCmd": "cat(var_dic_list()) "
    }
   },
   "types_to_exclude": [
    "module",
    "function",
    "builtin_function_or_method",
    "instance",
    "_Feature"
   ],
   "window_display": false
  }
 },
 "nbformat": 4,
 "nbformat_minor": 4
}
