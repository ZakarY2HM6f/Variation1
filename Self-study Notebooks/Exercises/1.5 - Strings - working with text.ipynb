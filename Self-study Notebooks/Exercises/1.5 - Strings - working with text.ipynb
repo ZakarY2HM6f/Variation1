{
 "cells": [
  {
   "cell_type": "markdown",
   "id": "560d5292",
   "metadata": {
    "solution2": "hidden",
    "solution2_first": true
   },
   "source": [
    "### Exercise 1.5.1\n",
    "\n",
    "The following code has an error. Correct the code to make it work.\n",
    "\n",
    "```python\n",
    "area = 3.142 * 1.2**2 # Area of circle\n",
    "print( f'Area of circle is {area:.1f} )\n",
    "```"
   ]
  },
  {
   "cell_type": "markdown",
   "id": "a2a8f3bd",
   "metadata": {
    "solution2": "hidden"
   },
   "source": [
    "> The f-string is missing a single quote at the end:\n",
    "```python\n",
    "print( f'Area of circle is {area:.1f}' )\n",
    "```"
   ]
  },
  {
   "cell_type": "code",
   "execution_count": 1,
   "id": "49d63f79",
   "metadata": {},
   "outputs": [
    {
     "name": "stdout",
     "output_type": "stream",
     "text": [
      "Area of circle is 4.5\n"
     ]
    }
   ],
   "source": [
    "area = 3.142 * 1.2**2 # Area of circle\n",
    "print( f'Area of circle is {area:.1f}' )"
   ]
  },
  {
   "cell_type": "markdown",
   "id": "fcf0d554",
   "metadata": {
    "button": false,
    "new_sheet": false,
    "run_control": {
     "read_only": false
    },
    "solution2": "hidden",
    "solution2_first": true
   },
   "source": [
    "### Exercise 1.5.2\n",
    "\n",
    "Complete the code below using an f-string to insert the string variables into the printed string. Use formatting to round the numbers to 2dp.\n",
    "\n",
    "<div class=\"alert alert-info\">\n",
    "Your answer should be\n",
    "    \n",
    "    Beak depth measurements of Ground Finches ranged from 7.69 mm to 11.13 mm, with a mean of 9.28 mm\n",
    "</div>"
   ]
  },
  {
   "cell_type": "code",
   "execution_count": 3,
   "id": "63246561",
   "metadata": {
    "solution2": "hidden"
   },
   "outputs": [
    {
     "name": "stdout",
     "output_type": "stream",
     "text": [
      "Beak depth measurements of Ground Finches ranged from 7.69 mm to 11.13 mm, with a mean of 9.28 mm\n"
     ]
    }
   ],
   "source": [
    "mean_beak_depth = 9.27874\n",
    "max_beak_depth = 11.128392\n",
    "min_beak_depth = 7.689485\n",
    "\n",
    "# Change the following string below to an f-string with all values rounded to 2 decimal places.\n",
    "\n",
    "print(f\"Beak depth measurements of Ground Finches ranged from {min_beak_depth:.2f} mm to {max_beak_depth:.2f} mm, with a mean of {mean_beak_depth:.2f} mm\")"
   ]
  },
  {
   "cell_type": "markdown",
   "id": "4289ab88",
   "metadata": {
    "solution2": "hidden",
    "solution2_first": true
   },
   "source": [
    "### Exercise 1.5.3\n",
    "\n",
    "<div>\n",
    "<img src=\"attachment:penguins-2.jpg\" width='50%' title=\"rawpixel.com CC0 1.0\"/>\n",
    "</div>\n",
    "\n",
    "Scientists counted the number of emperor penguins that joined an Antarctic breeding colony on each day for a whole season. The first three day's records are given in the following table\n",
    "\n",
    "Day | New colonists\n",
    ":--- | ---:\n",
    "1st March | 10\n",
    "2nd March | 156\n",
    "3rd March | 73\n",
    "\n",
    "Using a variable called `number_penguins` and f-strings print out the date and the cumulative number of penguins in the colony on each of the first three days. Use the operator `+=` to increment the variable.\n",
    "\n",
    "<div class=\"alert alert-info\">\n",
    "Your answer should be\n",
    "    \n",
    "    1st March 10\n",
    "    2nd March 166\n",
    "    3rd March 239\n",
    "</div>"
   ]
  },
  {
   "cell_type": "code",
   "execution_count": 4,
   "id": "c8099e46",
   "metadata": {
    "solution2": "hidden"
   },
   "outputs": [
    {
     "name": "stdout",
     "output_type": "stream",
     "text": [
      "1st March 10\n",
      "2nd March 166\n",
      "3rd March 239\n"
     ]
    }
   ],
   "source": [
    "number_penguins = 10\n",
    "print( f'1st March {number_penguins}' )\n",
    "\n",
    "number_penguins += 156\n",
    "print( f'2nd March {number_penguins}' )\n",
    "\n",
    "number_penguins += 73\n",
    "print( f'3rd March {number_penguins}' )"
   ]
  },
  {
   "cell_type": "markdown",
   "id": "d3d3924d",
   "metadata": {
    "solution2": "hidden",
    "solution2_first": true
   },
   "source": [
    "### Exercise 1.5.4\n",
    "\n",
    "Using the variable `Fahrenheit` below, write code to convert it to degrees Celsius and print the answer using an f-string to 1dp. The conversion formula is\n",
    "\n",
    "$$\\text{Celsius} = \\frac{5}{9}(\\text{Fahrenheit}-32)$$\n",
    "\n",
    "<div class=\"alert alert-info\">\n",
    "Your output should be  \n",
    "    \n",
    "    98 deg F = 36.7 deg C.\n",
    "    \n",
    "</div>"
   ]
  },
  {
   "cell_type": "code",
   "execution_count": 6,
   "id": "d0f7da85",
   "metadata": {
    "solution2": "hidden"
   },
   "outputs": [
    {
     "name": "stdout",
     "output_type": "stream",
     "text": [
      "98 deg F = 36.7 deg C\n"
     ]
    }
   ],
   "source": [
    "Fahrenheit = 98\n",
    "\n",
    "# WRITE YOUR ANSWER BELOW\n",
    "\n",
    "Celsius = 5/9 * (Fahrenheit - 32)\n",
    "\n",
    "print( f'{Fahrenheit} deg F = {Celsius:.1f} deg C' )"
   ]
  },
  {
   "cell_type": "markdown",
   "id": "ce594083",
   "metadata": {},
   "source": [
    "## This is the end of this week's Self-study notebooks"
   ]
  }
 ],
 "metadata": {
  "kernelspec": {
   "display_name": ".venv",
   "language": "python",
   "name": "python3"
  },
  "language_info": {
   "codemirror_mode": {
    "name": "ipython",
    "version": 3
   },
   "file_extension": ".py",
   "mimetype": "text/x-python",
   "name": "python",
   "nbconvert_exporter": "python",
   "pygments_lexer": "ipython3",
   "version": "3.13.5"
  },
  "varInspector": {
   "cols": {
    "lenName": 16,
    "lenType": 16,
    "lenVar": 40
   },
   "kernels_config": {
    "python": {
     "delete_cmd_postfix": "",
     "delete_cmd_prefix": "del ",
     "library": "var_list.py",
     "varRefreshCmd": "print(var_dic_list())"
    },
    "r": {
     "delete_cmd_postfix": ") ",
     "delete_cmd_prefix": "rm(",
     "library": "var_list.r",
     "varRefreshCmd": "cat(var_dic_list()) "
    }
   },
   "types_to_exclude": [
    "module",
    "function",
    "builtin_function_or_method",
    "instance",
    "_Feature"
   ],
   "window_display": false
  }
 },
 "nbformat": 4,
 "nbformat_minor": 5
}
