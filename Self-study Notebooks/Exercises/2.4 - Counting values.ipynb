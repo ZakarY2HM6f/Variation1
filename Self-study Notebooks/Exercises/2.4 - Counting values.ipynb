{
 "cells": [
  {
   "cell_type": "markdown",
   "id": "33056d4a",
   "metadata": {
    "solution2": "hidden",
    "solution2_first": true
   },
   "source": [
    "### Exercise 2.4.1\n",
    "\n",
    "The following code has an error. Correct the code to make it work.\n",
    "\n",
    "```python\n",
    "\n",
    "dice_rolls = [2, 5, 5, 1, 2]\n",
    "for roll in dice_rolls:\n",
    "    if roll == 2:\n",
    "    print(roll)\n",
    "```"
   ]
  },
  {
   "cell_type": "markdown",
   "id": "c0b7948d",
   "metadata": {
    "solution2": "hidden"
   },
   "source": [
    "> The `print()` statement should be double-indented, once for the loop and once for the condition.\n",
    "\n",
    "```python\n",
    "dice_rolls = [2, 5, 5, 1, 2]\n",
    "for roll in dice_rolls:\n",
    "    if roll == 2:\n",
    "        print(roll)\n",
    "```"
   ]
  },
  {
   "cell_type": "code",
   "execution_count": 1,
   "id": "2793f74e",
   "metadata": {},
   "outputs": [
    {
     "name": "stdout",
     "output_type": "stream",
     "text": [
      "2\n",
      "2\n"
     ]
    }
   ],
   "source": [
    "dice_rolls = [2, 5, 5, 1, 2]\n",
    "for roll in dice_rolls:\n",
    "    if roll == 2:\n",
    "        print(roll)"
   ]
  },
  {
   "cell_type": "markdown",
   "id": "a27ed8a6",
   "metadata": {
    "solution2": "hidden",
    "solution2_first": true
   },
   "source": [
    "### Exercise 2.4.2\n",
    "\n",
    "The following code has an error. Correct the code to make it work. This is a tough one, read the code carefully thinking about what each line does.\n",
    "\n",
    "```python\n",
    "dice_rolls = [2, 5, 5, 1, 2]\n",
    "for roll in dice_rolls:\n",
    "    if dice_rolls == 2:\n",
    "        print(roll)\n",
    "```"
   ]
  },
  {
   "cell_type": "markdown",
   "id": "ac8175b2",
   "metadata": {
    "solution2": "hidden"
   },
   "source": [
    "> This code does not raise an error nor produce any output as we might expect. This is because the condition compares the list `dice_rolls` with 2. This is a valid Python thing to do, but not what we intended. Instead the iterating variable `roll` should be compared to 2.\n",
    "```python\n",
    "dice_rolls = [2, 5, 5, 1, 2]\n",
    "for roll in dice_rolls:\n",
    "    if roll == 2:\n",
    "        print(roll)\n",
    "```"
   ]
  },
  {
   "cell_type": "code",
   "execution_count": 2,
   "id": "636b0003",
   "metadata": {},
   "outputs": [
    {
     "name": "stdout",
     "output_type": "stream",
     "text": [
      "2\n",
      "2\n"
     ]
    }
   ],
   "source": [
    "dice_rolls = [2, 5, 5, 1, 2]\n",
    "for roll in dice_rolls:\n",
    "    if roll == 2:\n",
    "        print(roll)"
   ]
  },
  {
   "cell_type": "markdown",
   "id": "be622917",
   "metadata": {
    "solution2": "hidden",
    "solution2_first": true
   },
   "source": [
    "### Exercise 2.4.3\n",
    "\n",
    "The following code has an error. Correct the code to make it work.\n",
    "\n",
    "```python\n",
    "dice_rolls = [2, 5, 5, 1, 2]\n",
    "for roll in dice_rolls:\n",
    "    if roll == 2:\n",
    "        count_2s += 1\n",
    "```"
   ]
  },
  {
   "cell_type": "markdown",
   "id": "584627ab",
   "metadata": {
    "solution2": "hidden"
   },
   "source": [
    "> The tally variable `count_2s` was not initialised to 0 before we tried to increment it.  \n",
    "```python\n",
    "count_2s = 0\n",
    "dice_rolls = [2, 5, 5, 1, 2]\n",
    "for roll in dice_rolls:\n",
    "    if roll == 2:\n",
    "        count_2s += 1\n",
    "```"
   ]
  },
  {
   "cell_type": "code",
   "execution_count": 3,
   "id": "4852191f",
   "metadata": {},
   "outputs": [],
   "source": [
    "dice_rolls = [2, 5, 5, 1, 2]\n",
    "count_2s = 0\n",
    "\n",
    "for roll in dice_rolls:\n",
    "    if roll == 2:\n",
    "        count_2s += 1"
   ]
  },
  {
   "cell_type": "markdown",
   "id": "1dad6b91",
   "metadata": {
    "solution2": "hidden",
    "solution2_first": true
   },
   "source": [
    "### Exercise 2.4.4\n",
    "<br>\n",
    "<div>\n",
    "<img src=\"attachment:web.jpg\" width='50%' title=\"Greenstone Girl CC BY-NC 2.0\"/>\n",
    "</div>\n",
    "\n",
    "Researchers counted the number of insects caught in the webs of orb spiders in the Botanic gardens. The number of insects in each web are recorded in the list `insects`.\n",
    "\n",
    "Using python code, find the frequency of webs that had caught one insect.\n",
    "\n",
    "<div class=\"alert alert-info\">\n",
    "Your answer should be 3 webs.\n",
    "</div>"
   ]
  },
  {
   "cell_type": "code",
   "execution_count": 4,
   "id": "035c5517",
   "metadata": {
    "solution2": "hidden"
   },
   "outputs": [
    {
     "name": "stdout",
     "output_type": "stream",
     "text": [
      "Frequency of 1 insect in a web is 3\n"
     ]
    }
   ],
   "source": [
    "insects = [17, 22, 23, 8, 24, 22, 5, 4, 6, 11, 11, 7, 1, 16, 15, 5, 2, 13, 25, 1, 7, 22, 12, 22, 23, 6, 13, 20, 4, 19, 12, 16, 21, 13, 22, 12, 7, 22, 20, 4, 18, 9, 13, 9, 26, 4, 29, 6, 24, 27, 4, 11, 26, 29, 13, 11, 22, 13, 5, 14, 22, 8, 16, 11, 18, 26, 19, 14, 6, 18, 10, 13, 26, 12, 9, 21, 28, 11, 22, 4, 16, 21, 10, 6, 4, 23, 29, 15, 23, 25, 7, 11, 17, 23, 13, 14, 14, 28, 1, 24]\n",
    "\n",
    "# Set up a tally to count the number of times 1 occurs. Initialise it to zero.\n",
    "count = 0\n",
    "\n",
    "# Loop through the list of insects caught in each web.\n",
    "for i in insects:\n",
    "    \n",
    "    # If number of insects in web equals 1 increment the tally by 1.\n",
    "    if i == 1:\n",
    "        count += 1\n",
    "\n",
    "print(f'Frequency of 1 insect in a web is {count}')"
   ]
  },
  {
   "cell_type": "markdown",
   "id": "d0e75bd2",
   "metadata": {
    "solution2": "hidden",
    "solution2_first": true
   },
   "source": [
    "### Exercise 2.4.5\n",
    "\n",
    "Using python code, find the **relative frequency** of webs that had caught one insect.\n",
    "\n",
    "<div class=\"alert alert-info\">\n",
    "Your answer should be 0.03 or 3% of webs.\n",
    "</div>"
   ]
  },
  {
   "cell_type": "code",
   "execution_count": 5,
   "id": "c0af0b19",
   "metadata": {
    "solution2": "hidden"
   },
   "outputs": [
    {
     "name": "stdout",
     "output_type": "stream",
     "text": [
      "Relative frequency of 1 insect in a web is 0.03 or 3%\n"
     ]
    }
   ],
   "source": [
    "# The total number of webs examined.\n",
    "n = len(insects)\n",
    "\n",
    "print(f'Relative frequency of 1 insect in a web is {count/n:.2f} or {count/n:.0%}')"
   ]
  },
  {
   "cell_type": "markdown",
   "id": "1720fa4e",
   "metadata": {
    "solution2": "hidden",
    "solution2_first": true
   },
   "source": [
    "### Exercise 2.4.6\n",
    "\n",
    "Using python code, find the frequency and relative frequency of webs with between 10 and 20 insects inclusive (i.e., include webs with 10 and 20 insects).\n",
    "\n",
    "<div class=\"alert alert-info\">\n",
    "Your answers should be frequency = 40 webs and relative frequency = 0.4.\n",
    "</div>\n"
   ]
  },
  {
   "cell_type": "code",
   "execution_count": 6,
   "id": "45b7f533",
   "metadata": {
    "solution2": "hidden"
   },
   "outputs": [
    {
     "name": "stdout",
     "output_type": "stream",
     "text": [
      "Frequency of webs with between 10 and 20 insects 40\n",
      "Relative frequency of webs with between 10 and 20 insects 0.4\n"
     ]
    }
   ],
   "source": [
    "# The total number of webs examined.\n",
    "n = len(insects)\n",
    "\n",
    "# Set up a tally to count the number of webs with between 10 and 20 insects inclusive. Initialise it to zero.\n",
    "count = 0\n",
    "\n",
    "# Loop through the list of insects caught in each web.\n",
    "for i in insects:\n",
    "    \n",
    "    # If number of insects is between 10 and 20 increment the tally by 1.\n",
    "    if 10 <= i <= 20:\n",
    "        count += 1\n",
    "\n",
    "print(f'Frequency of webs with between 10 and 20 insects {count}')\n",
    "print(f'Relative frequency of webs with between 10 and 20 insects {count / n}')"
   ]
  },
  {
   "cell_type": "markdown",
   "id": "85cdf754",
   "metadata": {
    "solution2": "hidden",
    "solution2_first": true
   },
   "source": [
    "### Exercise 2.4.7\n",
    "\n",
    "Using python code, find the frequency and relative frequency of webs with fewer than 5 insects or more than 15 insects.\n",
    "\n",
    "<div class=\"alert alert-info\">\n",
    "Your answers should be frequency = 56 webs and relative frequency = 0.56.\n",
    "</div>\n"
   ]
  },
  {
   "cell_type": "code",
   "execution_count": 7,
   "id": "74d15ef3",
   "metadata": {
    "solution2": "hidden"
   },
   "outputs": [
    {
     "name": "stdout",
     "output_type": "stream",
     "text": [
      "Frequency of webs with less than 5 or greater than 15 insects 56\n",
      "Relative frequency of webs with less than 5 or greater than 15 insects 0.56\n"
     ]
    }
   ],
   "source": [
    "# The total number of webs examined.\n",
    "n = len(insects)\n",
    "\n",
    "# Set up a tally to count the number of webs with < 5 or > 15 insects. Initialise it to zero.\n",
    "count = 0\n",
    "\n",
    "# Loop through the list of insects caught in each web.\n",
    "for i in insects:\n",
    "    \n",
    "    # If number of insects is less than 5 or greater than 15 increment the tally by 1.\n",
    "    if i < 5 or i > 15:\n",
    "        count += 1\n",
    "\n",
    "print(f'Frequency of webs with less than 5 or greater than 15 insects {count}')\n",
    "print(f'Relative frequency of webs with less than 5 or greater than 15 insects {count / n}')"
   ]
  },
  {
   "cell_type": "markdown",
   "id": "f8c0a895",
   "metadata": {
    "solution2": "hidden",
    "solution2_first": true
   },
   "source": [
    "### Exercise 2.4.8\n",
    "\n",
    "Using Python code, find the average number of insects per web to 1dp.\n",
    "\n",
    "*Hint: Adapt the code from the [Loops](../2.2%20-%20Loops.ipynb#Average-value-of-items-in-a-list) notebook.*\n",
    "\n",
    "<div class=\"alert alert-info\">\n",
    "Your answer should be 14.9 insects per web.\n",
    "</div>"
   ]
  },
  {
   "cell_type": "code",
   "execution_count": 8,
   "id": "6d8701cb",
   "metadata": {
    "solution2": "hidden"
   },
   "outputs": [
    {
     "name": "stdout",
     "output_type": "stream",
     "text": [
      "average number of insects per web is 14.9\n"
     ]
    }
   ],
   "source": [
    "# The total number of webs examined.\n",
    "n = len(insects)\n",
    "\n",
    "# Set total sum of insects to 0\n",
    "sum_insects = 0\n",
    "\n",
    "# Loop through insects to get total numbers\n",
    "for i in insects:\n",
    "    sum_insects += i\n",
    "\n",
    "# Calculate the average number of insects per web\n",
    "average_insects_per_web = sum_insects / n\n",
    "\n",
    "print(f'average number of insects per web is {average_insects_per_web:.1f}')"
   ]
  },
  {
   "cell_type": "markdown",
   "id": "bfa56b13",
   "metadata": {
    "solution2": "hidden",
    "solution2_first": true
   },
   "source": [
    "### Exercise 2.4.9\n",
    "\n",
    "Using python code, find the frequency and relative frequency of webs that had caught more than the average number of insects.\n",
    "\n",
    "*Hint: Use the average number of insects you calculated in Exercise 2.4.8.*\n",
    "\n",
    "<div class=\"alert alert-info\">\n",
    "Your answer should be 47 webs which is 0.47 or 47%.\n",
    "</div>"
   ]
  },
  {
   "cell_type": "code",
   "execution_count": 9,
   "id": "bc4eccb1",
   "metadata": {
    "solution2": "hidden"
   },
   "outputs": [
    {
     "name": "stdout",
     "output_type": "stream",
     "text": [
      "47\n",
      "0.47\n"
     ]
    }
   ],
   "source": [
    "# The total number of webs examined.\n",
    "n = len(insects)\n",
    "\n",
    "# tally of webs with greater than the average number of insects caught\n",
    "count = 0\n",
    "\n",
    "for i in insects:\n",
    "\n",
    "    # increment tally if insects caught in this web is greater than the average\n",
    "    if i > average_insects_per_web:\n",
    "        count += 1\n",
    "        \n",
    "print(count)\n",
    "print(count/n)"
   ]
  },
  {
   "cell_type": "markdown",
   "id": "081993bc",
   "metadata": {},
   "source": [
    "## This is the end of this week's Notebooks"
   ]
  }
 ],
 "metadata": {
  "kernelspec": {
   "display_name": ".venv",
   "language": "python",
   "name": "python3"
  },
  "language_info": {
   "codemirror_mode": {
    "name": "ipython",
    "version": 3
   },
   "file_extension": ".py",
   "mimetype": "text/x-python",
   "name": "python",
   "nbconvert_exporter": "python",
   "pygments_lexer": "ipython3",
   "version": "3.13.5"
  },
  "varInspector": {
   "cols": {
    "lenName": 16,
    "lenType": 16,
    "lenVar": 40
   },
   "kernels_config": {
    "python": {
     "delete_cmd_postfix": "",
     "delete_cmd_prefix": "del ",
     "library": "var_list.py",
     "varRefreshCmd": "print(var_dic_list())"
    },
    "r": {
     "delete_cmd_postfix": ") ",
     "delete_cmd_prefix": "rm(",
     "library": "var_list.r",
     "varRefreshCmd": "cat(var_dic_list()) "
    }
   },
   "types_to_exclude": [
    "module",
    "function",
    "builtin_function_or_method",
    "instance",
    "_Feature"
   ],
   "window_display": false
  }
 },
 "nbformat": 4,
 "nbformat_minor": 5
}
