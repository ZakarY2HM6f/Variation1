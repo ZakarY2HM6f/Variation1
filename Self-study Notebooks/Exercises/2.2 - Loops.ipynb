{
 "cells": [
  {
   "cell_type": "markdown",
   "metadata": {
    "solution2": "hidden",
    "solution2_first": true
   },
   "source": [
    "### Exercise 2.2.1\n",
    "\n",
    "The following code has an error. Correct the code to make it work.\n",
    "\n",
    "```python\n",
    "weights = [3.4, 3.7, 3.1]\n",
    "for w in weights:\n",
    "print(w)\n",
    "```"
   ]
  },
  {
   "cell_type": "markdown",
   "metadata": {
    "solution2": "hidden"
   },
   "source": [
    "> Any statement within the loop should be indented.\n",
    "```python\n",
    "weights = [3.4, 3.7, 3.1]\n",
    "for w in weights:\n",
    "    print(w)\n",
    "```"
   ]
  },
  {
   "cell_type": "code",
   "execution_count": 1,
   "metadata": {},
   "outputs": [
    {
     "name": "stdout",
     "output_type": "stream",
     "text": [
      "3.4\n",
      "3.7\n",
      "3.1\n"
     ]
    }
   ],
   "source": [
    "weights = [3.4, 3.7, 3.1]\n",
    "for w in weights:\n",
    "    print(w)"
   ]
  },
  {
   "cell_type": "markdown",
   "metadata": {
    "solution2": "hidden",
    "solution2_first": true
   },
   "source": [
    "### Exercise 2.2.2\n",
    "\n",
    "The following code has an error. Correct the code to make it work.\n",
    "\n",
    "```python\n",
    "weights = [3.4, 3.7, 3.1]\n",
    "for w in weights\n",
    "    print(w)\n",
    "```"
   ]
  },
  {
   "cell_type": "markdown",
   "metadata": {
    "solution2": "hidden"
   },
   "source": [
    "> The colon at the end of the `for` loop is missing.\n",
    "```python\n",
    "weights = [3.4, 3.7, 3.1]\n",
    "for w in weights:\n",
    "    print(w)\n",
    "```"
   ]
  },
  {
   "cell_type": "code",
   "execution_count": 2,
   "metadata": {},
   "outputs": [
    {
     "name": "stdout",
     "output_type": "stream",
     "text": [
      "3.4\n",
      "3.7\n",
      "3.1\n"
     ]
    }
   ],
   "source": [
    "weights = [3.4, 3.7, 3.1]\n",
    "for w in weights:\n",
    "    print(w)"
   ]
  },
  {
   "cell_type": "markdown",
   "metadata": {
    "solution2": "hidden",
    "solution2_first": true
   },
   "source": [
    "### Exercise 2.2.3\n",
    "\n",
    "The following code has an error. Correct the code to make it work.\n",
    "\n",
    "```python\n",
    "weights = [3.4, 3.7, 3.1]\n",
    "for w in weights:\n",
    "    print(weights)\n",
    "```"
   ]
  },
  {
   "cell_type": "markdown",
   "metadata": {
    "solution2": "hidden"
   },
   "source": [
    "> Not strictly an error, but the code does not produce the output you want. This is because the code keeps printing the list `weights` inside the loop instead of printing the iterating variable `w`.\n",
    "```python\n",
    "weights = [3.4, 3.7, 3.1]\n",
    "for w in weights:\n",
    "    print(w)\n",
    "```"
   ]
  },
  {
   "cell_type": "code",
   "execution_count": 3,
   "metadata": {},
   "outputs": [
    {
     "name": "stdout",
     "output_type": "stream",
     "text": [
      "3.4\n",
      "3.7\n",
      "3.1\n"
     ]
    }
   ],
   "source": [
    "weights = [3.4, 3.7, 3.1]\n",
    "for w in weights:\n",
    "    print(w)"
   ]
  },
  {
   "cell_type": "markdown",
   "metadata": {
    "solution2": "hidden",
    "solution2_first": true
   },
   "source": [
    "### Exercise 2.2.4\n",
    "\n",
    "The following code has an error. Correct the code to make it work.\n",
    "\n",
    "```python\n",
    "weights = [3.4, 3.7, 3.1]\n",
    "for w in weights:\n",
    "    sum_weights += w\n",
    "```"
   ]
  },
  {
   "cell_type": "markdown",
   "metadata": {
    "solution2": "hidden"
   },
   "source": [
    "> The tally variable `sum_weights` has not been initialised before the loop.\n",
    "```python\n",
    "sum_weights = 0\n",
    "weights = [3.4, 3.7, 3.1]\n",
    "for w in weights:\n",
    "    sum_weights += w\n",
    "```"
   ]
  },
  {
   "cell_type": "code",
   "execution_count": 4,
   "metadata": {},
   "outputs": [],
   "source": [
    "weights = [3.4, 3.7, 3.1]\n",
    "sum_weights = 0\n",
    "for w in weights:\n",
    "    sum_weights += w"
   ]
  },
  {
   "cell_type": "markdown",
   "metadata": {
    "solution2": "hidden",
    "solution2_first": true
   },
   "source": [
    "### Exercise 2.2.5\n",
    "\n",
    "The following code has an error. Correct the code to make it work.\n",
    "\n",
    "```python\n",
    "weights = [3.4, 3.7, 3.1]\n",
    "for w in weights:\n",
    "    sum_weights = 0\n",
    "    sum_weights += w\n",
    "    print(sum_weights)\n",
    "```"
   ]
  },
  {
   "cell_type": "markdown",
   "metadata": {
    "solution2": "hidden"
   },
   "source": [
    "> Not strictly an error, but the code does not produce the output you want. This is because the tally variable `sum_weights` keeps getting set to 0 on each iteration of the loop, so `sum_weights` does not get incremented properly.\n",
    "```python\n",
    "weights = [3.4, 3.7, 3.1]\n",
    "sum_weights = 0\n",
    "\n",
    "for w in weights:\n",
    "    sum_weights += w\n",
    "    print(sum_weights)\n",
    "```"
   ]
  },
  {
   "cell_type": "code",
   "execution_count": 5,
   "metadata": {},
   "outputs": [
    {
     "name": "stdout",
     "output_type": "stream",
     "text": [
      "3.4\n",
      "7.1\n",
      "10.2\n"
     ]
    }
   ],
   "source": [
    "weights = [3.4, 3.7, 3.1]\n",
    "sum_weights = 0\n",
    "\n",
    "for w in weights:\n",
    "    sum_weights += w\n",
    "    print(sum_weights)"
   ]
  },
  {
   "cell_type": "markdown",
   "metadata": {
    "solution2": "hidden",
    "solution2_first": true
   },
   "source": [
    "### Exercise 2.2.6\n",
    "<br>\n",
    "<div>\n",
    "<img src=\"attachment:dolphin.jpg\" title=\"rawpixel.com CC0 1.0\"/>\n",
    "</div>\n",
    "\n",
    "\n",
    "In the Northern hemisphere dolphins tend to swim anti-clockwise whilst sleeping. The list `percent_swim` in the code cell below shows the percentage of time each of seven sleeping dolphins swam anti-clockwise.\n",
    "\n",
    "Loop through the list printing out each value."
   ]
  },
  {
   "cell_type": "code",
   "execution_count": 6,
   "metadata": {
    "solution2": "hidden"
   },
   "outputs": [
    {
     "name": "stdout",
     "output_type": "stream",
     "text": [
      "97.4\n",
      "77.5\n",
      "84.8\n",
      "89.3\n",
      "79.5\n",
      "83.9\n",
      "94.5\n"
     ]
    }
   ],
   "source": [
    "percent_swim = [97.4, 77.5, 84.8, 89.3, 79.5, 83.9, 94.5]\n",
    "\n",
    "for p in percent_swim:\n",
    "    print(p)"
   ]
  },
  {
   "cell_type": "markdown",
   "metadata": {
    "solution2": "hidden",
    "solution2_first": true
   },
   "source": [
    "### Exercise 2.2.7\n",
    "\n",
    "Using a loop, find the average percentage of time the dolphins spend swimming anti-clockwise to 2dp.\n",
    "\n",
    "<div class=\"alert alert-info\">\n",
    "    \n",
    "Your answer should be 86.70%.\n",
    "    \n",
    "</div>"
   ]
  },
  {
   "cell_type": "code",
   "execution_count": 7,
   "metadata": {
    "solution2": "hidden"
   },
   "outputs": [
    {
     "name": "stdout",
     "output_type": "stream",
     "text": [
      "average percent of time swimming anti-clockwise is 86.70%\n"
     ]
    }
   ],
   "source": [
    "percent_swim = [97.4, 77.5, 84.8, 89.3, 79.5, 83.9, 94.5]\n",
    "\n",
    "# The number of items in the list.\n",
    "n = len( percent_swim )\n",
    "\n",
    "# Initialise the running sum to zero.\n",
    "sum_of_percent_swim = 0\n",
    "\n",
    "# Loop through the list summing the values one at a time.\n",
    "for p in percent_swim:\n",
    "    sum_of_percent_swim += p\n",
    "\n",
    "# Calculate the average.\n",
    "average_percent_swim = sum_of_percent_swim / n\n",
    "\n",
    "print(f'average percent of time swimming anti-clockwise is {average_percent_swim:.2f}%')"
   ]
  },
  {
   "cell_type": "markdown",
   "metadata": {
    "solution2": "hidden",
    "solution2_first": true
   },
   "source": [
    "### Exercise 2.2.8\n",
    "\n",
    "The number of items in a list is found by using the `len()` function.\n",
    "\n",
    "Write your own code that uses a loop to count the number items in a list and prints it out.\n",
    "\n",
    "<div class=\"alert alert-info\">\n",
    "    \n",
    "Your answer should be 7.\n",
    "    \n",
    "</div>"
   ]
  },
  {
   "cell_type": "code",
   "execution_count": 8,
   "metadata": {
    "solution2": "hidden"
   },
   "outputs": [
    {
     "name": "stdout",
     "output_type": "stream",
     "text": [
      "number of items in the list is 7\n"
     ]
    }
   ],
   "source": [
    "percent_swim = [97.4, 77.5, 84.8, 89.3, 79.5, 83.9, 94.5]\n",
    "\n",
    "# Initialise tally to 0\n",
    "count = 0\n",
    "\n",
    "# Loop through the list increasing tally by 1 each time\n",
    "for p in percent_swim:\n",
    "    count += 1\n",
    "    \n",
    "print(f'number of items in the list is {count}')"
   ]
  },
  {
   "cell_type": "markdown",
   "metadata": {
    "solution2": "hidden",
    "solution2_first": true
   },
   "source": [
    "### Exercise 2.2.9\n",
    "<br>\n",
    "<div>\n",
    "<img src=\"attachment:penguins.jpg\" width='50%' title=\"rawpixel.com CC0 1.0\"/>\n",
    "</div>\n",
    "\n",
    "Scientists counted the number of emperor penguins that joined an Antarctic breeding colony on each day for a whole season. The list `arriving_penguins` contains the number of penguins arriving each day ordered on their day of arrival.\n",
    "\n",
    "Using a variable called `number_penguins` print out the cumulative number of penguins in the colony on each day of the season. Use the operator `+=` to increment the variable.\n",
    "\n",
    "<div class=\"alert alert-info\">\n",
    "Your answer should be\n",
    "    \n",
    "    10\n",
    "    166\n",
    "    ... etc.\n",
    "    15920\n",
    "    16552\n",
    "</div>"
   ]
  },
  {
   "cell_type": "code",
   "execution_count": 9,
   "metadata": {
    "solution2": "hidden"
   },
   "outputs": [
    {
     "name": "stdout",
     "output_type": "stream",
     "text": [
      "10\n",
      "166\n",
      "239\n",
      "615\n",
      "1401\n",
      "1833\n",
      "2868\n",
      "3769\n",
      "4871\n",
      "7438\n",
      "9009\n",
      "9925\n",
      "11485\n",
      "12117\n",
      "13060\n",
      "13306\n",
      "13960\n",
      "15416\n",
      "15920\n",
      "16552\n"
     ]
    }
   ],
   "source": [
    "arriving_penguins = [10, 156, 73, 376, 786, 432, 1035, 901, 1102, 2567, 1571, 916, 1560, 632, 943, 246, 654, 1456, 504, 632]\n",
    "\n",
    "# Set cumulative number of penguins to 0\n",
    "number_penguins = 0\n",
    "\n",
    "# Loop through arriving penguins and add to cumulative number\n",
    "for n in arriving_penguins:\n",
    "    number_penguins += n\n",
    "    \n",
    "    print(number_penguins)\n"
   ]
  },
  {
   "cell_type": "markdown",
   "metadata": {},
   "source": [
    "## Next Notebook"
   ]
  },
  {
   "cell_type": "markdown",
   "metadata": {},
   "source": [
    "[Making decisions](../2.3%20-%20Making%20decisions.ipynb)"
   ]
  }
 ],
 "metadata": {
  "kernelspec": {
   "display_name": ".venv",
   "language": "python",
   "name": "python3"
  },
  "language_info": {
   "codemirror_mode": {
    "name": "ipython",
    "version": 3
   },
   "file_extension": ".py",
   "mimetype": "text/x-python",
   "name": "python",
   "nbconvert_exporter": "python",
   "pygments_lexer": "ipython3",
   "version": "3.13.5"
  },
  "varInspector": {
   "cols": {
    "lenName": 16,
    "lenType": 16,
    "lenVar": 40
   },
   "kernels_config": {
    "python": {
     "delete_cmd_postfix": "",
     "delete_cmd_prefix": "del ",
     "library": "var_list.py",
     "varRefreshCmd": "print(var_dic_list())"
    },
    "r": {
     "delete_cmd_postfix": ") ",
     "delete_cmd_prefix": "rm(",
     "library": "var_list.r",
     "varRefreshCmd": "cat(var_dic_list()) "
    }
   },
   "types_to_exclude": [
    "module",
    "function",
    "builtin_function_or_method",
    "instance",
    "_Feature"
   ],
   "window_display": false
  }
 },
 "nbformat": 4,
 "nbformat_minor": 4
}
